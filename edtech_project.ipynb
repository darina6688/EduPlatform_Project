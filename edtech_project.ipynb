{
 "cells": [
  {
   "cell_type": "markdown",
   "metadata": {},
   "source": [
    "## Проект образовательной платформы"
   ]
  },
  {
   "cell_type": "markdown",
   "metadata": {},
   "source": [
    "### Задание 1. A/B–тестирование\n",
    "\n",
    "В ходе тестирования одной гипотезы целевой группе была предложена новая механика оплаты услуг на сайте, у контрольной группы оставалась базовая механика. В качестве задания Вам необходимо проанализировать итоги эксперимента и сделать вывод, стоит ли запускать новую механику оплаты на всех пользователей.   \n",
    "\n",
    "**_Входные данные:_**    \n",
    "\n",
    " - **_groups.csv_** - файл с информацией о принадлежности пользователя к контрольной или экспериментальной группе (А – контроль, B – целевая группа)  \n",
    " - **_groups_add.csv_** - дополнительный файл с пользователями, который вам прислали спустя 2 дня после передачи данных  \n",
    " - **_active_studs.csv_** - файл с информацией о пользователях, которые зашли на платформу в дни проведения эксперимента.   \n",
    " - **_checks.csv_** - файл с информацией об оплатах пользователей в дни проведения эксперимента.   \n",
    " \n",
    "**Вопросы:**  \n",
    "- На какие метрики Вы смотрите в ходе анализа и почему?\n",
    "- Имеются ли различия в показателях и с чем они могут быть связаны?\n",
    "- Являются ли эти различия статистически значимыми?\n",
    "- Стоит ли запускать новую механику на всех пользователей?  \n"
   ]
  },
  {
   "cell_type": "markdown",
   "metadata": {},
   "source": [
    "**Загрузка данных и EDA**"
   ]
  },
  {
   "cell_type": "code",
   "execution_count": 1,
   "metadata": {},
   "outputs": [],
   "source": [
    "import pandas as pd\n",
    "import numpy as np\n",
    "import seaborn as sns\n",
    "import scipy.stats as ss\n",
    "from scipy.stats import norm \n",
    "from scipy.stats import chi2_contingency, chi2 \n",
    "import pingouin as pg\n",
    "\n",
    "import requests\n",
    "from urllib.parse import urlencode\n",
    "\n",
    "%matplotlib inline\n",
    "import matplotlib.pyplot as plt\n",
    "sns.set(rc={'figure.figsize':(8, 4)}, style=\"whitegrid\")"
   ]
  },
  {
   "cell_type": "code",
   "execution_count": 2,
   "metadata": {},
   "outputs": [],
   "source": [
    "# Напишем функцию загрузки данных с диска\n",
    "\n",
    "def load_data(public_key):\n",
    "    \n",
    "    base_url = 'https://cloud-api.yandex.net/v1/disk/public/resources/download?'\n",
    "\n",
    "    # Получаем загрузочную ссылку\n",
    "    final_url = base_url + urlencode(dict(public_key=public_key))\n",
    "    response = requests.get(final_url)\n",
    "    download_url = response.json()['href']\n",
    "\n",
    "    # Записываем результат в df\n",
    "    df = pd.read_csv(download_url, sep=';')   # подходит только для ссылок 1 и 4\n",
    "    \n",
    "    return df"
   ]
  },
  {
   "cell_type": "code",
   "execution_count": 3,
   "metadata": {},
   "outputs": [],
   "source": [
    "# links\n",
    "\n",
    "public_key1 = 'https://disk.yandex.ru/d/UhyYx41rTt3clQ'\n",
    "public_key2 = 'https://disk.yandex.ru/d/5Kxrz02m3IBUwQ'\n",
    "public_key3 = 'https://disk.yandex.ru/d/Tbs44Bm6H_FwFQ'\n",
    "public_key4 = 'https://disk.yandex.ru/d/pH1q-VqcxXjsVA'"
   ]
  },
  {
   "cell_type": "code",
   "execution_count": 4,
   "metadata": {},
   "outputs": [
    {
     "name": "stderr",
     "output_type": "stream",
     "text": [
      "/opt/tljh/user/lib/python3.7/site-packages/outdated/utils.py:18: OutdatedCacheFailedWarning: Failed to use cache while checking for outdated package.\n",
      "Set the environment variable OUTDATED_RAISE_EXCEPTION=1 for a full traceback.\n",
      "Set the environment variable OUTDATED_IGNORE=1 to disable these warnings.\n",
      "  **kwargs\n",
      "/opt/tljh/user/lib/python3.7/site-packages/outdated/utils.py:18: OutdatedPackageWarning: The package outdated is out of date. Your version is 0.2.1, the latest is 0.2.2.\n",
      "Set the environment variable OUTDATED_IGNORE=1 to disable these warnings.\n",
      "  **kwargs\n",
      "/opt/tljh/user/lib/python3.7/site-packages/outdated/utils.py:18: OutdatedPackageWarning: The package pingouin is out of date. Your version is 0.4.0, the latest is 0.5.4.\n",
      "Set the environment variable OUTDATED_IGNORE=1 to disable these warnings.\n",
      "  **kwargs\n"
     ]
    }
   ],
   "source": [
    "# получим результат в датафреймы\n",
    "\n",
    "groups = load_data(public_key1)\n",
    "checks = load_data(public_key4)"
   ]
  },
  {
   "cell_type": "code",
   "execution_count": 5,
   "metadata": {},
   "outputs": [],
   "source": [
    "# Получаем данные с яндекс диска (для ссылок 2 и 3)\n",
    "\n",
    "base_url = 'https://cloud-api.yandex.net/v1/disk/public/resources/download?'\n",
    "\n",
    "final_url = base_url + urlencode(dict(public_key=public_key2)) \n",
    "group_add = pd.read_csv(requests.get(final_url).json()['href'])\n",
    "\n",
    "final_url = base_url + urlencode(dict(public_key=public_key3)) \n",
    "activ_stud = pd.read_csv(requests.get(final_url).json()['href'])"
   ]
  },
  {
   "cell_type": "code",
   "execution_count": 6,
   "metadata": {},
   "outputs": [
    {
     "data": {
      "text/html": [
       "<div>\n",
       "<style scoped>\n",
       "    .dataframe tbody tr th:only-of-type {\n",
       "        vertical-align: middle;\n",
       "    }\n",
       "\n",
       "    .dataframe tbody tr th {\n",
       "        vertical-align: top;\n",
       "    }\n",
       "\n",
       "    .dataframe thead th {\n",
       "        text-align: right;\n",
       "    }\n",
       "</style>\n",
       "<table border=\"1\" class=\"dataframe\">\n",
       "  <thead>\n",
       "    <tr style=\"text-align: right;\">\n",
       "      <th></th>\n",
       "      <th>id</th>\n",
       "      <th>grp</th>\n",
       "    </tr>\n",
       "  </thead>\n",
       "  <tbody>\n",
       "    <tr>\n",
       "      <th>0</th>\n",
       "      <td>1489</td>\n",
       "      <td>B</td>\n",
       "    </tr>\n",
       "    <tr>\n",
       "      <th>1</th>\n",
       "      <td>1627</td>\n",
       "      <td>A</td>\n",
       "    </tr>\n",
       "    <tr>\n",
       "      <th>2</th>\n",
       "      <td>1768</td>\n",
       "      <td>B</td>\n",
       "    </tr>\n",
       "    <tr>\n",
       "      <th>3</th>\n",
       "      <td>1783</td>\n",
       "      <td>B</td>\n",
       "    </tr>\n",
       "    <tr>\n",
       "      <th>4</th>\n",
       "      <td>1794</td>\n",
       "      <td>A</td>\n",
       "    </tr>\n",
       "  </tbody>\n",
       "</table>\n",
       "</div>"
      ],
      "text/plain": [
       "     id grp\n",
       "0  1489   B\n",
       "1  1627   A\n",
       "2  1768   B\n",
       "3  1783   B\n",
       "4  1794   A"
      ]
     },
     "execution_count": 6,
     "metadata": {},
     "output_type": "execute_result"
    }
   ],
   "source": [
    "groups.head()"
   ]
  },
  {
   "cell_type": "code",
   "execution_count": 7,
   "metadata": {},
   "outputs": [
    {
     "data": {
      "text/html": [
       "<div>\n",
       "<style scoped>\n",
       "    .dataframe tbody tr th:only-of-type {\n",
       "        vertical-align: middle;\n",
       "    }\n",
       "\n",
       "    .dataframe tbody tr th {\n",
       "        vertical-align: top;\n",
       "    }\n",
       "\n",
       "    .dataframe thead th {\n",
       "        text-align: right;\n",
       "    }\n",
       "</style>\n",
       "<table border=\"1\" class=\"dataframe\">\n",
       "  <thead>\n",
       "    <tr style=\"text-align: right;\">\n",
       "      <th></th>\n",
       "      <th>id</th>\n",
       "      <th>grp</th>\n",
       "    </tr>\n",
       "  </thead>\n",
       "  <tbody>\n",
       "    <tr>\n",
       "      <th>0</th>\n",
       "      <td>5694584</td>\n",
       "      <td>B</td>\n",
       "    </tr>\n",
       "    <tr>\n",
       "      <th>1</th>\n",
       "      <td>5694830</td>\n",
       "      <td>B</td>\n",
       "    </tr>\n",
       "    <tr>\n",
       "      <th>2</th>\n",
       "      <td>5695057</td>\n",
       "      <td>B</td>\n",
       "    </tr>\n",
       "    <tr>\n",
       "      <th>3</th>\n",
       "      <td>5698872</td>\n",
       "      <td>B</td>\n",
       "    </tr>\n",
       "    <tr>\n",
       "      <th>4</th>\n",
       "      <td>5699067</td>\n",
       "      <td>B</td>\n",
       "    </tr>\n",
       "  </tbody>\n",
       "</table>\n",
       "</div>"
      ],
      "text/plain": [
       "        id grp\n",
       "0  5694584   B\n",
       "1  5694830   B\n",
       "2  5695057   B\n",
       "3  5698872   B\n",
       "4  5699067   B"
      ]
     },
     "execution_count": 7,
     "metadata": {},
     "output_type": "execute_result"
    }
   ],
   "source": [
    "group_add.head()"
   ]
  },
  {
   "cell_type": "code",
   "execution_count": 8,
   "metadata": {},
   "outputs": [
    {
     "data": {
      "text/html": [
       "<div>\n",
       "<style scoped>\n",
       "    .dataframe tbody tr th:only-of-type {\n",
       "        vertical-align: middle;\n",
       "    }\n",
       "\n",
       "    .dataframe tbody tr th {\n",
       "        vertical-align: top;\n",
       "    }\n",
       "\n",
       "    .dataframe thead th {\n",
       "        text-align: right;\n",
       "    }\n",
       "</style>\n",
       "<table border=\"1\" class=\"dataframe\">\n",
       "  <thead>\n",
       "    <tr style=\"text-align: right;\">\n",
       "      <th></th>\n",
       "      <th>student_id</th>\n",
       "    </tr>\n",
       "  </thead>\n",
       "  <tbody>\n",
       "    <tr>\n",
       "      <th>0</th>\n",
       "      <td>581585</td>\n",
       "    </tr>\n",
       "    <tr>\n",
       "      <th>1</th>\n",
       "      <td>5723133</td>\n",
       "    </tr>\n",
       "    <tr>\n",
       "      <th>2</th>\n",
       "      <td>3276743</td>\n",
       "    </tr>\n",
       "    <tr>\n",
       "      <th>3</th>\n",
       "      <td>4238589</td>\n",
       "    </tr>\n",
       "    <tr>\n",
       "      <th>4</th>\n",
       "      <td>4475369</td>\n",
       "    </tr>\n",
       "  </tbody>\n",
       "</table>\n",
       "</div>"
      ],
      "text/plain": [
       "   student_id\n",
       "0      581585\n",
       "1     5723133\n",
       "2     3276743\n",
       "3     4238589\n",
       "4     4475369"
      ]
     },
     "execution_count": 8,
     "metadata": {},
     "output_type": "execute_result"
    }
   ],
   "source": [
    "activ_stud.head()"
   ]
  },
  {
   "cell_type": "code",
   "execution_count": 9,
   "metadata": {},
   "outputs": [
    {
     "data": {
      "text/html": [
       "<div>\n",
       "<style scoped>\n",
       "    .dataframe tbody tr th:only-of-type {\n",
       "        vertical-align: middle;\n",
       "    }\n",
       "\n",
       "    .dataframe tbody tr th {\n",
       "        vertical-align: top;\n",
       "    }\n",
       "\n",
       "    .dataframe thead th {\n",
       "        text-align: right;\n",
       "    }\n",
       "</style>\n",
       "<table border=\"1\" class=\"dataframe\">\n",
       "  <thead>\n",
       "    <tr style=\"text-align: right;\">\n",
       "      <th></th>\n",
       "      <th>student_id</th>\n",
       "      <th>rev</th>\n",
       "    </tr>\n",
       "  </thead>\n",
       "  <tbody>\n",
       "    <tr>\n",
       "      <th>0</th>\n",
       "      <td>1627</td>\n",
       "      <td>990.0</td>\n",
       "    </tr>\n",
       "    <tr>\n",
       "      <th>1</th>\n",
       "      <td>3185</td>\n",
       "      <td>690.0</td>\n",
       "    </tr>\n",
       "    <tr>\n",
       "      <th>2</th>\n",
       "      <td>25973</td>\n",
       "      <td>690.0</td>\n",
       "    </tr>\n",
       "    <tr>\n",
       "      <th>3</th>\n",
       "      <td>26280</td>\n",
       "      <td>690.0</td>\n",
       "    </tr>\n",
       "    <tr>\n",
       "      <th>4</th>\n",
       "      <td>100300</td>\n",
       "      <td>990.0</td>\n",
       "    </tr>\n",
       "  </tbody>\n",
       "</table>\n",
       "</div>"
      ],
      "text/plain": [
       "   student_id    rev\n",
       "0        1627  990.0\n",
       "1        3185  690.0\n",
       "2       25973  690.0\n",
       "3       26280  690.0\n",
       "4      100300  990.0"
      ]
     },
     "execution_count": 9,
     "metadata": {},
     "output_type": "execute_result"
    }
   ],
   "source": [
    "checks.head()"
   ]
  },
  {
   "cell_type": "code",
   "execution_count": 10,
   "metadata": {},
   "outputs": [
    {
     "name": "stdout",
     "output_type": "stream",
     "text": [
      "\u001b[1m Датафрейм \"groups\":\u001b[0m\n",
      "Проверка типов данных: \n",
      "id      int64\n",
      "grp    object\n",
      "dtype: object\n",
      "\n",
      "Количество строк в датафрейме \u001b[1m groups: 74484\u001b[0m, дубли отсутствуют\n",
      "Количество уникальных значений: 74484\n",
      "\n",
      "Проверяем количество нулевых значений - датафрейм groups: \n",
      "id     0\n",
      "grp    0\n",
      "dtype: int64\n",
      "\n",
      "\u001b[1m Датафрейм \"group_add\":\u001b[0m\n",
      "Проверка типов данных: \n",
      "id      int64\n",
      "grp    object\n",
      "dtype: object\n",
      "\n",
      "Количество строк в датафрейме \u001b[1m group_add: 92\u001b[0m, дубли отсутствуют\n",
      "Количество уникальных значений: 92\n",
      "\n",
      "Проверяем количество нулевых значений - датафрейм group_add: \n",
      "id     0\n",
      "grp    0\n",
      "dtype: int64\n",
      "\n",
      "\u001b[1m Датафрейм \"activ_stud\":\u001b[0m\n",
      "Проверка типов данных: \n",
      "student_id    int64\n",
      "dtype: object\n",
      "\n",
      "Количество строк в датафрейме \u001b[1m activ_stud: 8341\u001b[0m, дубли отсутствуют\n",
      "Количество уникальных значений: 8341\n",
      "\n",
      "Проверяем количество нулевых значений - датафрейм activ_stud: \n",
      "student_id    0\n",
      "dtype: int64\n",
      "\n",
      "\u001b[1m Датафрейм \"checks\":\u001b[0m\n",
      "Проверка типов данных: \n",
      "student_id      int64\n",
      "rev           float64\n",
      "dtype: object\n",
      "\n",
      "Количество строк в датафрейме \u001b[1m checks: 541\u001b[0m, дубли отсутствуют\n",
      "Количество уникальных значений: 541\n",
      "\n",
      "Проверяем количество нулевых значений - датафрейм checks: \n",
      "student_id    0\n",
      "rev           0\n",
      "dtype: int64\n",
      "\n"
     ]
    }
   ],
   "source": [
    "# проверка типов данных, а также на присутствие дублей и пропущенных значений\n",
    "\n",
    "data = [groups, group_add, activ_stud, checks]\n",
    "\n",
    "def func_check(x):\n",
    "    title_lst = ['groups', 'group_add', 'activ_stud', 'checks']\n",
    "    for num, df in enumerate(x):\n",
    "        a = df.shape[0]\n",
    "        if df.duplicated().sum() == 0:\n",
    "            b = 'дубли отсутствуют'\n",
    "        else:\n",
    "            b = 'дублей - ' + str(df.duplicated().sum())   \n",
    "        с = df.isna().sum()\n",
    "        \n",
    "        print(f'\\033[1m Датафрейм \"{title_lst[num]}\":\\033[0m') \n",
    "        print(f'Проверка типов данных: \\n{df.dtypes}')\n",
    "        print()\n",
    "        print(f'Количество строк в датафрейме \\033[1m {title_lst[num]}: {a}\\033[0m, {b}') \n",
    "        print(f'Количество уникальных значений: {df.nunique()[0]}')\n",
    "        print()\n",
    "        print(f'Проверяем количество нулевых значений - датафрейм {title_lst[num]}: \\n{с}')\n",
    "        print()\n",
    "info = func_check(data)\n",
    "info"
   ]
  },
  {
   "cell_type": "markdown",
   "metadata": {},
   "source": [
    "Как видим, аномалий в данных никаких пока не наблюдается. Пустых значений и дублей тоже не было обнаружено.\n",
    "При этом наблюдаем, что в файле активных пользователей, которые зашли на платформу в день проведения эксперимента - существенно меньше (8341 человек от общего числа пользователей 74484) и составляет примерно 10% от всех пользователей. А файл с оплатами пользователей в день эксперимента  - содержит еще меньшее количество пользователей - всего 541 оплативших пользователей.  \n",
    "\n",
    "**Подготовка и преобразование данных**  \n",
    "\n",
    "Далее нужно объединить данные: вначале присоединяем к основному датасету со списком всех пользователей - датасет, который получили на два дня позже. После этого полный список пользователей объединим с датасетом покупок, а потом также объединим датасет активных пользователей с данными о покупках. "
   ]
  },
  {
   "cell_type": "code",
   "execution_count": 11,
   "metadata": {},
   "outputs": [
    {
     "data": {
      "text/html": [
       "<div>\n",
       "<style scoped>\n",
       "    .dataframe tbody tr th:only-of-type {\n",
       "        vertical-align: middle;\n",
       "    }\n",
       "\n",
       "    .dataframe tbody tr th {\n",
       "        vertical-align: top;\n",
       "    }\n",
       "\n",
       "    .dataframe thead th {\n",
       "        text-align: right;\n",
       "    }\n",
       "</style>\n",
       "<table border=\"1\" class=\"dataframe\">\n",
       "  <thead>\n",
       "    <tr style=\"text-align: right;\">\n",
       "      <th></th>\n",
       "      <th>student_id</th>\n",
       "      <th>grp</th>\n",
       "    </tr>\n",
       "  </thead>\n",
       "  <tbody>\n",
       "    <tr>\n",
       "      <th>0</th>\n",
       "      <td>1489</td>\n",
       "      <td>B</td>\n",
       "    </tr>\n",
       "    <tr>\n",
       "      <th>1</th>\n",
       "      <td>1627</td>\n",
       "      <td>A</td>\n",
       "    </tr>\n",
       "    <tr>\n",
       "      <th>2</th>\n",
       "      <td>1768</td>\n",
       "      <td>B</td>\n",
       "    </tr>\n",
       "    <tr>\n",
       "      <th>3</th>\n",
       "      <td>1783</td>\n",
       "      <td>B</td>\n",
       "    </tr>\n",
       "    <tr>\n",
       "      <th>4</th>\n",
       "      <td>1794</td>\n",
       "      <td>A</td>\n",
       "    </tr>\n",
       "  </tbody>\n",
       "</table>\n",
       "</div>"
      ],
      "text/plain": [
       "   student_id grp\n",
       "0        1489   B\n",
       "1        1627   A\n",
       "2        1768   B\n",
       "3        1783   B\n",
       "4        1794   A"
      ]
     },
     "execution_count": 11,
     "metadata": {},
     "output_type": "execute_result"
    }
   ],
   "source": [
    "# добавим в первый датасет groups дополнительные данные второго group_add, создав новые значения индекса\n",
    "\n",
    "groups_df = pd.concat([groups, group_add], ignore_index=True)\n",
    "\n",
    "# переименовываем название колонки для дальнейшего удобства\n",
    "groups_df = groups_df.rename(columns={'id':'student_id'})   \n",
    "\n",
    "groups_df.head()"
   ]
  },
  {
   "cell_type": "code",
   "execution_count": 12,
   "metadata": {},
   "outputs": [
    {
     "name": "stdout",
     "output_type": "stream",
     "text": [
      "все верно\n"
     ]
    }
   ],
   "source": [
    "# проведем проверку по полученному количеству\n",
    "\n",
    "if (groups.shape[0] + group_add.shape[0]) == groups_df.shape[0]:\n",
    "    print('все верно')\n",
    "else:\n",
    "    print('ошибка')"
   ]
  },
  {
   "cell_type": "code",
   "execution_count": 13,
   "metadata": {},
   "outputs": [
    {
     "data": {
      "text/html": [
       "<div>\n",
       "<style scoped>\n",
       "    .dataframe tbody tr th:only-of-type {\n",
       "        vertical-align: middle;\n",
       "    }\n",
       "\n",
       "    .dataframe tbody tr th {\n",
       "        vertical-align: top;\n",
       "    }\n",
       "\n",
       "    .dataframe thead th {\n",
       "        text-align: right;\n",
       "    }\n",
       "</style>\n",
       "<table border=\"1\" class=\"dataframe\">\n",
       "  <thead>\n",
       "    <tr style=\"text-align: right;\">\n",
       "      <th></th>\n",
       "      <th>student_id</th>\n",
       "      <th>grp</th>\n",
       "      <th>rev</th>\n",
       "      <th>buy</th>\n",
       "    </tr>\n",
       "  </thead>\n",
       "  <tbody>\n",
       "    <tr>\n",
       "      <th>0</th>\n",
       "      <td>1489</td>\n",
       "      <td>B</td>\n",
       "      <td>0.0</td>\n",
       "      <td>not_buy</td>\n",
       "    </tr>\n",
       "    <tr>\n",
       "      <th>1</th>\n",
       "      <td>1627</td>\n",
       "      <td>A</td>\n",
       "      <td>990.0</td>\n",
       "      <td>buy</td>\n",
       "    </tr>\n",
       "    <tr>\n",
       "      <th>2</th>\n",
       "      <td>1768</td>\n",
       "      <td>B</td>\n",
       "      <td>0.0</td>\n",
       "      <td>not_buy</td>\n",
       "    </tr>\n",
       "    <tr>\n",
       "      <th>3</th>\n",
       "      <td>1783</td>\n",
       "      <td>B</td>\n",
       "      <td>0.0</td>\n",
       "      <td>not_buy</td>\n",
       "    </tr>\n",
       "    <tr>\n",
       "      <th>4</th>\n",
       "      <td>1794</td>\n",
       "      <td>A</td>\n",
       "      <td>0.0</td>\n",
       "      <td>not_buy</td>\n",
       "    </tr>\n",
       "  </tbody>\n",
       "</table>\n",
       "</div>"
      ],
      "text/plain": [
       "   student_id grp    rev      buy\n",
       "0        1489   B    0.0  not_buy\n",
       "1        1627   A  990.0      buy\n",
       "2        1768   B    0.0  not_buy\n",
       "3        1783   B    0.0  not_buy\n",
       "4        1794   A    0.0  not_buy"
      ]
     },
     "execution_count": 13,
     "metadata": {},
     "output_type": "execute_result"
    }
   ],
   "source": [
    "# объединим полученные данные с данными датасета checks и получим данные о покупках по всем пользователям\n",
    "\n",
    "users = pd.merge(groups_df, checks, on='student_id', how='left')\n",
    "users['rev'] = users.rev.fillna(0)        # заменяем значения NaN на 0\n",
    "\n",
    "# добавим столбец совершена ли покупка в день эксперимента\n",
    "users['buy'] = users.rev.apply(lambda x: 'buy' if x > 0 else 'not_buy')\n",
    "\n",
    "users.head()"
   ]
  },
  {
   "cell_type": "code",
   "execution_count": 14,
   "metadata": {},
   "outputs": [
    {
     "data": {
      "text/plain": [
       "count    74576.000000\n",
       "mean         7.687808\n",
       "std        110.907645\n",
       "min          0.000000\n",
       "25%          0.000000\n",
       "50%          0.000000\n",
       "75%          0.000000\n",
       "max       4650.000000\n",
       "Name: rev, dtype: float64"
      ]
     },
     "execution_count": 14,
     "metadata": {},
     "output_type": "execute_result"
    }
   ],
   "source": [
    "# проверим статистику по столбцу оплаты по всем пользователям\n",
    "\n",
    "users.rev.describe()"
   ]
  },
  {
   "cell_type": "code",
   "execution_count": 15,
   "metadata": {},
   "outputs": [
    {
     "data": {
      "text/html": [
       "<div>\n",
       "<style scoped>\n",
       "    .dataframe tbody tr th:only-of-type {\n",
       "        vertical-align: middle;\n",
       "    }\n",
       "\n",
       "    .dataframe tbody tr th {\n",
       "        vertical-align: top;\n",
       "    }\n",
       "\n",
       "    .dataframe thead th {\n",
       "        text-align: right;\n",
       "    }\n",
       "</style>\n",
       "<table border=\"1\" class=\"dataframe\">\n",
       "  <thead>\n",
       "    <tr style=\"text-align: right;\">\n",
       "      <th></th>\n",
       "      <th>buy</th>\n",
       "      <th>grp</th>\n",
       "      <th>student_id</th>\n",
       "      <th>rev</th>\n",
       "    </tr>\n",
       "  </thead>\n",
       "  <tbody>\n",
       "    <tr>\n",
       "      <th>0</th>\n",
       "      <td>buy</td>\n",
       "      <td>A</td>\n",
       "      <td>107</td>\n",
       "      <td>92096.0000</td>\n",
       "    </tr>\n",
       "    <tr>\n",
       "      <th>1</th>\n",
       "      <td>buy</td>\n",
       "      <td>B</td>\n",
       "      <td>434</td>\n",
       "      <td>481230.0036</td>\n",
       "    </tr>\n",
       "    <tr>\n",
       "      <th>2</th>\n",
       "      <td>not_buy</td>\n",
       "      <td>A</td>\n",
       "      <td>14586</td>\n",
       "      <td>0.0000</td>\n",
       "    </tr>\n",
       "    <tr>\n",
       "      <th>3</th>\n",
       "      <td>not_buy</td>\n",
       "      <td>B</td>\n",
       "      <td>59449</td>\n",
       "      <td>0.0000</td>\n",
       "    </tr>\n",
       "  </tbody>\n",
       "</table>\n",
       "</div>"
      ],
      "text/plain": [
       "       buy grp  student_id          rev\n",
       "0      buy   A         107   92096.0000\n",
       "1      buy   B         434  481230.0036\n",
       "2  not_buy   A       14586       0.0000\n",
       "3  not_buy   B       59449       0.0000"
      ]
     },
     "execution_count": 15,
     "metadata": {},
     "output_type": "execute_result"
    }
   ],
   "source": [
    "# смотрим как распределены количество купивших по группам (в разрезе всех пользователей)\n",
    "\n",
    "all_us = users.groupby(['buy', 'grp'], as_index=False).agg({'student_id':'nunique', 'rev':'sum'})\n",
    "all_us"
   ]
  },
  {
   "cell_type": "code",
   "execution_count": 16,
   "metadata": {},
   "outputs": [
    {
     "name": "stderr",
     "output_type": "stream",
     "text": [
      "/opt/tljh/user/lib/python3.7/site-packages/ipykernel_launcher.py:10: SettingWithCopyWarning: \n",
      "A value is trying to be set on a copy of a slice from a DataFrame.\n",
      "Try using .loc[row_indexer,col_indexer] = value instead\n",
      "\n",
      "See the caveats in the documentation: https://pandas.pydata.org/pandas-docs/stable/user_guide/indexing.html#returning-a-view-versus-a-copy\n",
      "  # Remove the CWD from sys.path while we load stuff.\n"
     ]
    },
    {
     "data": {
      "text/html": [
       "<div>\n",
       "<style scoped>\n",
       "    .dataframe tbody tr th:only-of-type {\n",
       "        vertical-align: middle;\n",
       "    }\n",
       "\n",
       "    .dataframe tbody tr th {\n",
       "        vertical-align: top;\n",
       "    }\n",
       "\n",
       "    .dataframe thead th {\n",
       "        text-align: right;\n",
       "    }\n",
       "</style>\n",
       "<table border=\"1\" class=\"dataframe\">\n",
       "  <thead>\n",
       "    <tr style=\"text-align: right;\">\n",
       "      <th></th>\n",
       "      <th>student_id</th>\n",
       "      <th>grp</th>\n",
       "      <th>rev</th>\n",
       "      <th>buy</th>\n",
       "    </tr>\n",
       "  </thead>\n",
       "  <tbody>\n",
       "    <tr>\n",
       "      <th>1</th>\n",
       "      <td>1627</td>\n",
       "      <td>A</td>\n",
       "      <td>990.0</td>\n",
       "      <td>buy</td>\n",
       "    </tr>\n",
       "    <tr>\n",
       "      <th>10</th>\n",
       "      <td>2085</td>\n",
       "      <td>B</td>\n",
       "      <td>0.0</td>\n",
       "      <td>not_buy</td>\n",
       "    </tr>\n",
       "    <tr>\n",
       "      <th>12</th>\n",
       "      <td>2215</td>\n",
       "      <td>B</td>\n",
       "      <td>0.0</td>\n",
       "      <td>not_buy</td>\n",
       "    </tr>\n",
       "    <tr>\n",
       "      <th>43</th>\n",
       "      <td>3391</td>\n",
       "      <td>A</td>\n",
       "      <td>0.0</td>\n",
       "      <td>not_buy</td>\n",
       "    </tr>\n",
       "    <tr>\n",
       "      <th>45</th>\n",
       "      <td>3401</td>\n",
       "      <td>B</td>\n",
       "      <td>0.0</td>\n",
       "      <td>not_buy</td>\n",
       "    </tr>\n",
       "  </tbody>\n",
       "</table>\n",
       "</div>"
      ],
      "text/plain": [
       "    student_id grp    rev      buy\n",
       "1         1627   A  990.0      buy\n",
       "10        2085   B    0.0  not_buy\n",
       "12        2215   B    0.0  not_buy\n",
       "43        3391   A    0.0  not_buy\n",
       "45        3401   B    0.0  not_buy"
      ]
     },
     "execution_count": 16,
     "metadata": {},
     "output_type": "execute_result"
    }
   ],
   "source": [
    "# теперь получим данные только по активным пользователям\n",
    "\n",
    "lst_activ = activ_stud['student_id'].to_list()\n",
    "activ_users = users.query('student_id in @lst_activ')\n",
    "\n",
    "# второй способ\n",
    "# activ_users = users.merge(activ_stud, how='inner', on='student_id')\n",
    "\n",
    "# добавим также столбец совершена ли покупка в день эксперимента\n",
    "activ_users['buy'] = activ_users.rev.apply(lambda x: 'buy' if x > 0 else 'not_buy')\n",
    "\n",
    "activ_users.head()"
   ]
  },
  {
   "cell_type": "code",
   "execution_count": 17,
   "metadata": {},
   "outputs": [
    {
     "data": {
      "text/plain": [
       "count    8341.000000\n",
       "mean       56.083683\n",
       "std       309.620349\n",
       "min         0.000000\n",
       "25%         0.000000\n",
       "50%         0.000000\n",
       "75%         0.000000\n",
       "max      4650.000000\n",
       "Name: rev, dtype: float64"
      ]
     },
     "execution_count": 17,
     "metadata": {},
     "output_type": "execute_result"
    }
   ],
   "source": [
    "# проверим статистику по столбцу оплаты активных пользователей\n",
    "\n",
    "activ_users.rev.describe()"
   ]
  },
  {
   "cell_type": "code",
   "execution_count": 18,
   "metadata": {},
   "outputs": [
    {
     "data": {
      "text/html": [
       "<div>\n",
       "<style scoped>\n",
       "    .dataframe tbody tr th:only-of-type {\n",
       "        vertical-align: middle;\n",
       "    }\n",
       "\n",
       "    .dataframe tbody tr th {\n",
       "        vertical-align: top;\n",
       "    }\n",
       "\n",
       "    .dataframe thead th {\n",
       "        text-align: right;\n",
       "    }\n",
       "</style>\n",
       "<table border=\"1\" class=\"dataframe\">\n",
       "  <thead>\n",
       "    <tr style=\"text-align: right;\">\n",
       "      <th></th>\n",
       "      <th>buy</th>\n",
       "      <th>grp</th>\n",
       "      <th>student_id</th>\n",
       "      <th>rev</th>\n",
       "    </tr>\n",
       "  </thead>\n",
       "  <tbody>\n",
       "    <tr>\n",
       "      <th>0</th>\n",
       "      <td>buy</td>\n",
       "      <td>A</td>\n",
       "      <td>78</td>\n",
       "      <td>72820.0000</td>\n",
       "    </tr>\n",
       "    <tr>\n",
       "      <th>1</th>\n",
       "      <td>buy</td>\n",
       "      <td>B</td>\n",
       "      <td>314</td>\n",
       "      <td>394974.0035</td>\n",
       "    </tr>\n",
       "    <tr>\n",
       "      <th>2</th>\n",
       "      <td>not_buy</td>\n",
       "      <td>A</td>\n",
       "      <td>1460</td>\n",
       "      <td>0.0000</td>\n",
       "    </tr>\n",
       "    <tr>\n",
       "      <th>3</th>\n",
       "      <td>not_buy</td>\n",
       "      <td>B</td>\n",
       "      <td>6489</td>\n",
       "      <td>0.0000</td>\n",
       "    </tr>\n",
       "  </tbody>\n",
       "</table>\n",
       "</div>"
      ],
      "text/plain": [
       "       buy grp  student_id          rev\n",
       "0      buy   A          78   72820.0000\n",
       "1      buy   B         314  394974.0035\n",
       "2  not_buy   A        1460       0.0000\n",
       "3  not_buy   B        6489       0.0000"
      ]
     },
     "execution_count": 18,
     "metadata": {},
     "output_type": "execute_result"
    }
   ],
   "source": [
    "# смотрим как распределены количество купивших по группам в день эксперимента (то есть активные пользователи)\n",
    "\n",
    "activ_us = activ_users.groupby(['buy', 'grp'], as_index=False).agg({'student_id':'nunique', 'rev':'sum'})\n",
    "activ_us"
   ]
  },
  {
   "cell_type": "code",
   "execution_count": 19,
   "metadata": {},
   "outputs": [
    {
     "data": {
      "text/html": [
       "<div>\n",
       "<style scoped>\n",
       "    .dataframe tbody tr th:only-of-type {\n",
       "        vertical-align: middle;\n",
       "    }\n",
       "\n",
       "    .dataframe tbody tr th {\n",
       "        vertical-align: top;\n",
       "    }\n",
       "\n",
       "    .dataframe thead th {\n",
       "        text-align: right;\n",
       "    }\n",
       "</style>\n",
       "<table border=\"1\" class=\"dataframe\">\n",
       "  <thead>\n",
       "    <tr style=\"text-align: right;\">\n",
       "      <th></th>\n",
       "      <th>grp</th>\n",
       "      <th>student_id</th>\n",
       "      <th>rev</th>\n",
       "    </tr>\n",
       "  </thead>\n",
       "  <tbody>\n",
       "    <tr>\n",
       "      <th>0</th>\n",
       "      <td>A</td>\n",
       "      <td>29</td>\n",
       "      <td>19276.0000</td>\n",
       "    </tr>\n",
       "    <tr>\n",
       "      <th>1</th>\n",
       "      <td>B</td>\n",
       "      <td>120</td>\n",
       "      <td>86256.0001</td>\n",
       "    </tr>\n",
       "  </tbody>\n",
       "</table>\n",
       "</div>"
      ],
      "text/plain": [
       "  grp  student_id         rev\n",
       "0   A          29  19276.0000\n",
       "1   B         120  86256.0001"
      ]
     },
     "execution_count": 19,
     "metadata": {},
     "output_type": "execute_result"
    }
   ],
   "source": [
    "# проверим, были ли оплаты от пользователей, которые не попали в список активных\n",
    "\n",
    "buy_not_activ = users.query('student_id not in @lst_activ & rev>0')  \\\n",
    "                     .groupby('grp', as_index=False).agg({'student_id':'nunique', 'rev':'sum'})\n",
    "buy_not_activ"
   ]
  },
  {
   "cell_type": "markdown",
   "metadata": {},
   "source": [
    "В ходе предварительного исследования данных было замечено, что в группе В количество покупок примерно в 4 раза выше, не только среди активных пользователей, но также это прослеживается и на всех пользователях. Однако, это видно и не только по покупкам, но и по количеству пользователей в целом. Дело в том, что размер выборки группы В намного выше размера выборки группы А.  \n",
    "\n",
    "При этом, было замечено, что были также пользователи, которые не заходили в день проведения эксперимента, но совершали покупку (возможно до этого), всего таких пользователей 149 человек (29 из группы А и 120 из группы В). Поскольку такие пользователи не могли воспользоваться новым функционалом оплаты (так как они не видели страницу оплаты в день эксперимента), то мы не будем их учитывать в экспериментах АВ-теста. \n"
   ]
  },
  {
   "cell_type": "markdown",
   "metadata": {},
   "source": [
    "**Формулируем гипотезы, строим графики**"
   ]
  },
  {
   "cell_type": "code",
   "execution_count": 20,
   "metadata": {},
   "outputs": [
    {
     "data": {
      "text/html": [
       "<div>\n",
       "<style scoped>\n",
       "    .dataframe tbody tr th:only-of-type {\n",
       "        vertical-align: middle;\n",
       "    }\n",
       "\n",
       "    .dataframe tbody tr th {\n",
       "        vertical-align: top;\n",
       "    }\n",
       "\n",
       "    .dataframe thead th {\n",
       "        text-align: right;\n",
       "    }\n",
       "</style>\n",
       "<table border=\"1\" class=\"dataframe\">\n",
       "  <thead>\n",
       "    <tr style=\"text-align: right;\">\n",
       "      <th></th>\n",
       "      <th>grp</th>\n",
       "      <th>user_cnt</th>\n",
       "    </tr>\n",
       "  </thead>\n",
       "  <tbody>\n",
       "    <tr>\n",
       "      <th>0</th>\n",
       "      <td>A</td>\n",
       "      <td>14693</td>\n",
       "    </tr>\n",
       "    <tr>\n",
       "      <th>1</th>\n",
       "      <td>B</td>\n",
       "      <td>59883</td>\n",
       "    </tr>\n",
       "  </tbody>\n",
       "</table>\n",
       "</div>"
      ],
      "text/plain": [
       "  grp  user_cnt\n",
       "0   A     14693\n",
       "1   B     59883"
      ]
     },
     "execution_count": 20,
     "metadata": {},
     "output_type": "execute_result"
    }
   ],
   "source": [
    "# смотрим количество всех пользователей по группам\n",
    "\n",
    "users_amount = users.groupby('grp', as_index=False).size().rename(columns={'size':'user_cnt'})\n",
    "\n",
    "users_amount"
   ]
  },
  {
   "cell_type": "code",
   "execution_count": 21,
   "metadata": {},
   "outputs": [
    {
     "data": {
      "text/html": [
       "<div>\n",
       "<style scoped>\n",
       "    .dataframe tbody tr th:only-of-type {\n",
       "        vertical-align: middle;\n",
       "    }\n",
       "\n",
       "    .dataframe tbody tr th {\n",
       "        vertical-align: top;\n",
       "    }\n",
       "\n",
       "    .dataframe thead th {\n",
       "        text-align: right;\n",
       "    }\n",
       "</style>\n",
       "<table border=\"1\" class=\"dataframe\">\n",
       "  <thead>\n",
       "    <tr style=\"text-align: right;\">\n",
       "      <th></th>\n",
       "      <th>grp</th>\n",
       "      <th>activ_user_cnt</th>\n",
       "    </tr>\n",
       "  </thead>\n",
       "  <tbody>\n",
       "    <tr>\n",
       "      <th>0</th>\n",
       "      <td>A</td>\n",
       "      <td>1538</td>\n",
       "    </tr>\n",
       "    <tr>\n",
       "      <th>1</th>\n",
       "      <td>B</td>\n",
       "      <td>6803</td>\n",
       "    </tr>\n",
       "  </tbody>\n",
       "</table>\n",
       "</div>"
      ],
      "text/plain": [
       "  grp  activ_user_cnt\n",
       "0   A            1538\n",
       "1   B            6803"
      ]
     },
     "execution_count": 21,
     "metadata": {},
     "output_type": "execute_result"
    }
   ],
   "source": [
    "# смотрим количество активных пользователей по группам\n",
    "\n",
    "activ_users_amount = activ_users.groupby('grp', as_index=False).size().rename(columns={'size':'activ_user_cnt'}) \n",
    "activ_users_amount"
   ]
  },
  {
   "cell_type": "markdown",
   "metadata": {},
   "source": [
    "Не смотря на то, что количество всех пользователей составляет огромный процент по сравнению с активными пользователями. Статистические тесты будем применять только к группе активных пользователей. Так как только они могли видеть изменения, так как были на сайте в день проведения теста. Смотреть по всем пользователям нет смысла (хотя, как ни странно система сплитования распределила по группам всех пользователей, а не только активных). \n",
    "\n",
    "**Conversion Rate в группах пользователей**  "
   ]
  },
  {
   "cell_type": "code",
   "execution_count": 22,
   "metadata": {
    "scrolled": true
   },
   "outputs": [
    {
     "data": {
      "text/plain": [
       "<matplotlib.axes._subplots.AxesSubplot at 0x7f2fc74b0dd8>"
      ]
     },
     "execution_count": 22,
     "metadata": {},
     "output_type": "execute_result"
    },
    {
     "data": {
      "image/png": "[encoded data removed]",
      "text/plain": [
       "<Figure size 576x288 with 1 Axes>"
      ]
     },
     "metadata": {},
     "output_type": "display_data"
    }
   ],
   "source": [
    "# построим диаграмму боксплот по всем пользователям, разделив значения по группам\n",
    "\n",
    "sns.boxplot(data=users.query(\"rev>0\"), x='grp', y='rev', palette=['skyblue', 'lightgreen'])"
   ]
  },
  {
   "cell_type": "code",
   "execution_count": 23,
   "metadata": {
    "scrolled": true
   },
   "outputs": [
    {
     "data": {
      "text/plain": [
       "<matplotlib.axes._subplots.AxesSubplot at 0x7f2fc73f8160>"
      ]
     },
     "execution_count": 23,
     "metadata": {},
     "output_type": "execute_result"
    },
    {
     "data": {
      "image/png": "[encoded data removed]",
      "text/plain": [
       "<Figure size 576x288 with 1 Axes>"
      ]
     },
     "metadata": {},
     "output_type": "display_data"
    }
   ],
   "source": [
    "# построим диаграмму боксплот по активным пользователям, разделив значения по группам\n",
    "\n",
    "sns.boxplot(data=activ_users.query(\"rev>0\"), x='grp', y='rev', palette=['skyblue', 'lightgreen'])"
   ]
  },
  {
   "cell_type": "markdown",
   "metadata": {},
   "source": [
    "По диаграммам боксплот видно, что данные как по всем пользователям, так и по активным - имеют примерно одинаковые зависимости. В данных наблюдаются выбросы, при этом линия медианного значения в группе В проходит выше, значений группы А, примерно на уровне 25% для группы А. Размах по суммам покупок также значительно выше в группе В. Это говорит о том, что пользователи группы В делали большее количество покупок, соответственно, приносят больше прибыли, нежели пользователи группы А."
   ]
  },
  {
   "cell_type": "code",
   "execution_count": 24,
   "metadata": {},
   "outputs": [
    {
     "data": {
      "text/plain": [
       "not_buy    95.300324\n",
       "buy         4.699676\n",
       "Name: buy, dtype: float64"
      ]
     },
     "execution_count": 24,
     "metadata": {},
     "output_type": "execute_result"
    }
   ],
   "source": [
    "# смотрим Conversion Rate (конверсию) у активных пользователей\n",
    "\n",
    "#users.buy.value_counts(normalize=True).mul(100)     # соотношение по всем пользователям\n",
    "\n",
    "activ_users.buy.value_counts(normalize=True).mul(100)"
   ]
  },
  {
   "cell_type": "code",
   "execution_count": 25,
   "metadata": {},
   "outputs": [
    {
     "data": {
      "image/png": "[encoded data removed]",
      "text/plain": [
       "<Figure size 443.6x360 with 1 Axes>"
      ]
     },
     "metadata": {},
     "output_type": "display_data"
    }
   ],
   "source": [
    "# построим диаграмму и посмотрим визуально на различия среди активных пользователей\n",
    "\n",
    "sns.displot(data=activ_users[['buy', 'grp']].dropna(), x=\"grp\", hue=\"buy\", bins=2, palette=['green', 'grey'])\n",
    "sns.despine()"
   ]
  },
  {
   "cell_type": "markdown",
   "metadata": {},
   "source": [
    "Визуально можно видеть различия групп, которые, возможно, обусловлены различным соотношением числа пользователей в группах. Проверим показатель конверсии с помощью статистического теста.\n"
   ]
  },
  {
   "cell_type": "markdown",
   "metadata": {},
   "source": [
    "**Проверка гипотез с помощью статистических тестов**  \n",
    "\n",
    "Мы имеем две категориальные переменные _buy и grp_. Поэтому для проверки конверсии можно воспользоваться критерием **Хи-квадрат**.\n",
    "\n",
    "Мы имеем две гипотезы:\n",
    "\n",
    "- **𝐻0**: статистических различий между группами в конверсии нет\n",
    "- **𝐻1**: статистические различия между группами в конверсии присутствуют"
   ]
  },
  {
   "cell_type": "code",
   "execution_count": 26,
   "metadata": {},
   "outputs": [
    {
     "data": {
      "text/html": [
       "<div>\n",
       "<style scoped>\n",
       "    .dataframe tbody tr th:only-of-type {\n",
       "        vertical-align: middle;\n",
       "    }\n",
       "\n",
       "    .dataframe tbody tr th {\n",
       "        vertical-align: top;\n",
       "    }\n",
       "\n",
       "    .dataframe thead th {\n",
       "        text-align: right;\n",
       "    }\n",
       "</style>\n",
       "<table border=\"1\" class=\"dataframe\">\n",
       "  <thead>\n",
       "    <tr style=\"text-align: right;\">\n",
       "      <th>grp</th>\n",
       "      <th>A</th>\n",
       "      <th>B</th>\n",
       "    </tr>\n",
       "    <tr>\n",
       "      <th>buy</th>\n",
       "      <th></th>\n",
       "      <th></th>\n",
       "    </tr>\n",
       "  </thead>\n",
       "  <tbody>\n",
       "    <tr>\n",
       "      <th>buy</th>\n",
       "      <td>107</td>\n",
       "      <td>434</td>\n",
       "    </tr>\n",
       "    <tr>\n",
       "      <th>not_buy</th>\n",
       "      <td>14586</td>\n",
       "      <td>59449</td>\n",
       "    </tr>\n",
       "    <tr>\n",
       "      <th>buy</th>\n",
       "      <td>78</td>\n",
       "      <td>314</td>\n",
       "    </tr>\n",
       "    <tr>\n",
       "      <th>not_buy</th>\n",
       "      <td>1460</td>\n",
       "      <td>6489</td>\n",
       "    </tr>\n",
       "  </tbody>\n",
       "</table>\n",
       "</div>"
      ],
      "text/plain": [
       "grp          A      B\n",
       "buy                  \n",
       "buy        107    434\n",
       "not_buy  14586  59449\n",
       "buy         78    314\n",
       "not_buy   1460   6489"
      ]
     },
     "execution_count": 26,
     "metadata": {},
     "output_type": "execute_result"
    }
   ],
   "source": [
    "# создадим своднную таблицу по количеству пользователей в двух группах и как менялась конверсия в покупку\n",
    "\n",
    "tab1 = pd.crosstab(users.buy, users.grp)                # по всем пользователям\n",
    "tab2 = pd.crosstab(activ_users.buy, activ_users.grp)    # по активным пользователям\n",
    "\n",
    "tab_concat = pd.concat([tab1, tab2])\n",
    "\n",
    "tab_concat"
   ]
  },
  {
   "cell_type": "code",
   "execution_count": 27,
   "metadata": {},
   "outputs": [
    {
     "data": {
      "text/plain": [
       "(0.484808265225579, 0.48625240457231034)"
      ]
     },
     "execution_count": 27,
     "metadata": {},
     "output_type": "execute_result"
    }
   ],
   "source": [
    "# считаем статистику и p-value с помощью Хи-квадрат (берем только по активным пользователям)\n",
    "\n",
    "stat, p, dof, expected = chi2_contingency(tab2)\n",
    "stat, p"
   ]
  },
  {
   "cell_type": "code",
   "execution_count": 28,
   "metadata": {},
   "outputs": [
    {
     "name": "stdout",
     "output_type": "stream",
     "text": [
      "Не отклоняем H0\n"
     ]
    }
   ],
   "source": [
    "# Интерпретируем результат:\n",
    "prob = 0.95\n",
    "critical = chi2.ppf(prob, dof)\n",
    "if abs(stat) >= critical:\n",
    "    print('Отклоняем H0')\n",
    "else:\n",
    "    print('Не отклоняем H0')"
   ]
  },
  {
   "cell_type": "code",
   "execution_count": 29,
   "metadata": {},
   "outputs": [
    {
     "data": {
      "text/html": [
       "<div>\n",
       "<style scoped>\n",
       "    .dataframe tbody tr th:only-of-type {\n",
       "        vertical-align: middle;\n",
       "    }\n",
       "\n",
       "    .dataframe tbody tr th {\n",
       "        vertical-align: top;\n",
       "    }\n",
       "\n",
       "    .dataframe thead th {\n",
       "        text-align: right;\n",
       "    }\n",
       "</style>\n",
       "<table border=\"1\" class=\"dataframe\">\n",
       "  <thead>\n",
       "    <tr style=\"text-align: right;\">\n",
       "      <th></th>\n",
       "      <th>test</th>\n",
       "      <th>lambda</th>\n",
       "      <th>chi2</th>\n",
       "      <th>dof</th>\n",
       "      <th>pval</th>\n",
       "      <th>cramer</th>\n",
       "      <th>power</th>\n",
       "    </tr>\n",
       "  </thead>\n",
       "  <tbody>\n",
       "    <tr>\n",
       "      <th>0</th>\n",
       "      <td>pearson</td>\n",
       "      <td>1.000000</td>\n",
       "      <td>0.484808</td>\n",
       "      <td>1.0</td>\n",
       "      <td>0.486252</td>\n",
       "      <td>0.007624</td>\n",
       "      <td>0.107123</td>\n",
       "    </tr>\n",
       "    <tr>\n",
       "      <th>1</th>\n",
       "      <td>cressie-read</td>\n",
       "      <td>0.666667</td>\n",
       "      <td>0.482018</td>\n",
       "      <td>1.0</td>\n",
       "      <td>0.487510</td>\n",
       "      <td>0.007602</td>\n",
       "      <td>0.106787</td>\n",
       "    </tr>\n",
       "    <tr>\n",
       "      <th>2</th>\n",
       "      <td>log-likelihood</td>\n",
       "      <td>0.000000</td>\n",
       "      <td>0.476541</td>\n",
       "      <td>1.0</td>\n",
       "      <td>0.489993</td>\n",
       "      <td>0.007559</td>\n",
       "      <td>0.106127</td>\n",
       "    </tr>\n",
       "    <tr>\n",
       "      <th>3</th>\n",
       "      <td>freeman-tukey</td>\n",
       "      <td>-0.500000</td>\n",
       "      <td>0.472522</td>\n",
       "      <td>1.0</td>\n",
       "      <td>0.491829</td>\n",
       "      <td>0.007527</td>\n",
       "      <td>0.105643</td>\n",
       "    </tr>\n",
       "    <tr>\n",
       "      <th>4</th>\n",
       "      <td>mod-log-likelihood</td>\n",
       "      <td>-1.000000</td>\n",
       "      <td>0.468578</td>\n",
       "      <td>1.0</td>\n",
       "      <td>0.493642</td>\n",
       "      <td>0.007495</td>\n",
       "      <td>0.105168</td>\n",
       "    </tr>\n",
       "    <tr>\n",
       "      <th>5</th>\n",
       "      <td>neyman</td>\n",
       "      <td>-2.000000</td>\n",
       "      <td>0.460909</td>\n",
       "      <td>1.0</td>\n",
       "      <td>0.497200</td>\n",
       "      <td>0.007434</td>\n",
       "      <td>0.104245</td>\n",
       "    </tr>\n",
       "  </tbody>\n",
       "</table>\n",
       "</div>"
      ],
      "text/plain": [
       "                 test    lambda      chi2  dof      pval    cramer     power\n",
       "0             pearson  1.000000  0.484808  1.0  0.486252  0.007624  0.107123\n",
       "1        cressie-read  0.666667  0.482018  1.0  0.487510  0.007602  0.106787\n",
       "2      log-likelihood  0.000000  0.476541  1.0  0.489993  0.007559  0.106127\n",
       "3       freeman-tukey -0.500000  0.472522  1.0  0.491829  0.007527  0.105643\n",
       "4  mod-log-likelihood -1.000000  0.468578  1.0  0.493642  0.007495  0.105168\n",
       "5              neyman -2.000000  0.460909  1.0  0.497200  0.007434  0.104245"
      ]
     },
     "execution_count": 29,
     "metadata": {},
     "output_type": "execute_result"
    }
   ],
   "source": [
    "# проверим с помощью модуля пингвин\n",
    "\n",
    "exp, obs, stats = pg.chi2_independence(data=activ_users, x=\"grp\", y=\"buy\")\n",
    "stats"
   ]
  },
  {
   "cell_type": "markdown",
   "metadata": {},
   "source": [
    "**_Вывод:_** В ходе проверки гипотезы с помощью метода Хи-квадрат было получено значение **_p-value = 0,486_**, что дает нам право **не отклонять нулевую гипотезу H0** об отсутствии статистически значимых различий. Проверка с помощью модуля пингвина дала аналогичный результат."
   ]
  },
  {
   "cell_type": "markdown",
   "metadata": {},
   "source": [
    "**Проверка данных по группам пользователей на нормальность распределения**"
   ]
  },
  {
   "cell_type": "code",
   "execution_count": 30,
   "metadata": {},
   "outputs": [],
   "source": [
    "# разделим всех пользователей на группы и запишем в переменные:\n",
    "\n",
    "group_a = users.query(\"grp == 'A'\")                # все пользователи группы А\n",
    "group_b = users.query(\"grp == 'B'\")                # все пользователи группы B\n",
    "activ_group_a = activ_users.query(\"grp == 'A'\")    # активные пользователи группы А\n",
    "activ_group_b = activ_users.query(\"grp == 'B'\")    # активные пользователи группы B"
   ]
  },
  {
   "cell_type": "code",
   "execution_count": 31,
   "metadata": {},
   "outputs": [
    {
     "data": {
      "image/png": "[encoded data removed]",
      "text/plain": [
       "<Figure size 720x360 with 1 Axes>"
      ]
     },
     "metadata": {},
     "output_type": "display_data"
    }
   ],
   "source": [
    "# построим диаграмму распределения значений двух групп\n",
    "\n",
    "sns.set(rc={'figure.figsize':(10,5)})\n",
    "activ_group_b.rev.plot(kind='hist', bins=25,  color='grey', alpha=0.8, logy=True)\n",
    "activ_group_a.rev.plot(kind='hist', bins=25,  color='green', alpha=0.5, logy=True)\n",
    "sns.despine()"
   ]
  },
  {
   "cell_type": "code",
   "execution_count": 32,
   "metadata": {},
   "outputs": [
    {
     "name": "stdout",
     "output_type": "stream",
     "text": [
      "тест Шапиро-Уилка по покупкам активных пользователей группы А: \n",
      " ShapiroResult(statistic=0.1541670560836792, pvalue=0.0)\n",
      "\n",
      "тест Шапиро-Уилка по покупкам активных пользователей группы B: \n",
      " ShapiroResult(statistic=0.18124502897262573, pvalue=0.0)\n"
     ]
    },
    {
     "name": "stderr",
     "output_type": "stream",
     "text": [
      "/opt/tljh/user/lib/python3.7/site-packages/scipy/stats/morestats.py:1760: UserWarning: p-value may not be accurate for N > 5000.\n",
      "  warnings.warn(\"p-value may not be accurate for N > 5000.\")\n"
     ]
    }
   ],
   "source": [
    "# Группа A\n",
    "\n",
    "shapiro_act_a = ss.shapiro(activ_group_a.rev)\n",
    "print(f'тест Шапиро-Уилка по покупкам активных пользователей группы А: \\n {shapiro_act_a}\\n')\n",
    "\n",
    "# Группа B\n",
    "\n",
    "shapiro_act_b = ss.shapiro(activ_group_b.rev)\n",
    "print(f'тест Шапиро-Уилка по покупкам активных пользователей группы B: \\n {shapiro_act_b}')"
   ]
  },
  {
   "cell_type": "code",
   "execution_count": 33,
   "metadata": {},
   "outputs": [],
   "source": [
    "#через pingouin\n",
    "\n",
    "#pg.normality(data=activ_users, dv=\"rev\", group=\"grp\", method=\"normaltest\")"
   ]
  },
  {
   "cell_type": "code",
   "execution_count": 34,
   "metadata": {},
   "outputs": [
    {
     "data": {
      "image/png": "[encoded data removed]",
      "text/plain": [
       "<Figure size 360x288 with 1 Axes>"
      ]
     },
     "metadata": {},
     "output_type": "display_data"
    },
    {
     "data": {
      "image/png": "[encoded data removed]",
      "text/plain": [
       "<Figure size 360x288 with 1 Axes>"
      ]
     },
     "metadata": {},
     "output_type": "display_data"
    }
   ],
   "source": [
    "# построим qq-plot графики\n",
    "\n",
    "ax1 = pg.qqplot(activ_group_a.rev).set_title('QQ-plot активных пользователей группы A')\n",
    "ax2 = pg.qqplot(activ_group_b.rev).set_title('QQ-plot активных пользователей группы В')"
   ]
  },
  {
   "cell_type": "markdown",
   "metadata": {},
   "source": [
    "**Вывод:** На основе проведенных тестов Шапиро-Уилка, а также методом qq-plot модуля pingouin мы видим, что распределение наблюдений по суммам покупок внутри групп **_не является нормальным_**, так как во всех случаях p-value имеет очень небольшое значение и существенно меньше 0,05. На графиках qq-plot наблюдается существенное отклонение. "
   ]
  },
  {
   "cell_type": "markdown",
   "metadata": {},
   "source": [
    "**Выбор метрик**  \n",
    "\n",
    "Для дальнейшей проверки были выбраны и рассчитаны следующие метрики:\n",
    "\n",
    "- конверсия - посмотрим конверсию в покупку среди всех пользователей (CR), и среди активных пользователей (CR_active);\n",
    "- ARPU - отношение суммы выручки к общему количеству пользователей;\n",
    "- ARPAU - отношение суммы выручки к общему количеству активных пользователей;\n",
    "- ARPPU - отношение суммы выручки к общему количеству купивших пользователей;\n",
    "- медианная сумма покупки пользователя.\n",
    "\n",
    "Для начала произведем рассчеты этих метрик."
   ]
  },
  {
   "cell_type": "code",
   "execution_count": 35,
   "metadata": {},
   "outputs": [
    {
     "name": "stdout",
     "output_type": "stream",
     "text": [
      "Конверсия в покупку среди всех пользователей группы А: 0.73%\n",
      "Конверсия в покупку среди всех пользователей группы В: 0.72%\n"
     ]
    }
   ],
   "source": [
    "# рассчитаем конверсию из всех пользователей в купивших в группах А и В\n",
    "\n",
    "CR_a = round(group_a.query(\"rev > 0\").student_id.count() / group_a.student_id.count() * 100, 2)\n",
    "CR_b = round(group_b.query(\"rev > 0\").student_id.count() / group_b.student_id.count() * 100, 2)\n",
    "\n",
    "print(f'Конверсия в покупку среди всех пользователей группы А: {CR_a}%\\nКонверсия в покупку среди всех пользователей группы В: {CR_b}%')"
   ]
  },
  {
   "cell_type": "code",
   "execution_count": 36,
   "metadata": {},
   "outputs": [
    {
     "name": "stdout",
     "output_type": "stream",
     "text": [
      "Конверсия в покупку среди активных пользователей группы А: 5.07%\n",
      "Конверсия в покупку среди активных пользователей группы В: 4.62%\n"
     ]
    }
   ],
   "source": [
    "# рассчитаем конверсию из активных пользователей в купивших в группах А и В\n",
    "\n",
    "CR_active_a = round(activ_group_a.query(\"rev > 0\").student_id.count() / activ_group_a.student_id.count() * 100, 2)\n",
    "CR_active_b = round(activ_group_b.query(\"rev > 0\").student_id.count() / activ_group_b.student_id.count() * 100, 2)\n",
    "\n",
    "print(f'Конверсия в покупку среди активных пользователей группы А: {CR_active_a}%\\nКонверсия в покупку среди активных пользователей группы В: {CR_active_b}%')"
   ]
  },
  {
   "cell_type": "code",
   "execution_count": 37,
   "metadata": {},
   "outputs": [
    {
     "name": "stdout",
     "output_type": "stream",
     "text": [
      "Средняя стоимость покупки в группе А: 860.7102803738318\n",
      "Средняя стоимость покупки в группе В: 1108.8248930875575\n"
     ]
    }
   ],
   "source": [
    "# рассчитаем среднюю стоимость покупки в группах А и В\n",
    "\n",
    "mean_a = group_a.query(\"rev > 0\").rev.mean()\n",
    "mean_b = group_b.query(\"rev > 0\").rev.mean()\n",
    "print(f'Средняя стоимость покупки в группе А: {mean_a}\\nСредняя стоимость покупки в группе В: {mean_b}')"
   ]
  },
  {
   "cell_type": "code",
   "execution_count": 38,
   "metadata": {},
   "outputs": [],
   "source": [
    "ARPU_a = round(group_a.rev.sum() / group_a.student_id.count(), 2)\n",
    "ARPU_b = round(group_b.rev.sum() / group_b.student_id.count(), 2)\n",
    "ARPAU_a = round(group_a.rev.sum() / activ_group_a.student_id.count(), 2)\n",
    "ARPAU_b = round(group_b.rev.sum() / activ_group_b.student_id.count(), 2)\n",
    "ARPPU_a = round(group_a.rev.sum() / group_a.query(\"rev>0\").student_id.count(), 2) \n",
    "ARPPU_b = round(group_b.rev.sum() / group_b.query(\"rev>0\").student_id.count(), 2)"
   ]
  },
  {
   "cell_type": "code",
   "execution_count": 39,
   "metadata": {},
   "outputs": [
    {
     "name": "stdout",
     "output_type": "stream",
     "text": [
      "ARPU_a: 6.27\n",
      "ARPU_b: 8.04\n",
      "ARPAU_a: 59.88\n",
      "ARPAU_b: 70.74\n",
      "ARPPU_a: 860.71\n",
      "ARPPU_b: 1108.82\n"
     ]
    }
   ],
   "source": [
    "# выведем полученные значения метрик\n",
    "\n",
    "lst_metrics = [ARPU_a, ARPU_b, ARPAU_a, ARPAU_b, ARPPU_a, ARPPU_b]\n",
    "metrics_name = ['ARPU_a', 'ARPU_b', 'ARPAU_a', 'ARPAU_b', 'ARPPU_a', 'ARPPU_b']\n",
    "for i, с in enumerate(lst_metrics):\n",
    "    print(f\"{metrics_name[i]}: {lst_metrics[i]}\")"
   ]
  },
  {
   "cell_type": "code",
   "execution_count": 40,
   "metadata": {},
   "outputs": [
    {
     "data": {
      "text/html": [
       "<div>\n",
       "<style scoped>\n",
       "    .dataframe tbody tr th:only-of-type {\n",
       "        vertical-align: middle;\n",
       "    }\n",
       "\n",
       "    .dataframe tbody tr th {\n",
       "        vertical-align: top;\n",
       "    }\n",
       "\n",
       "    .dataframe thead th {\n",
       "        text-align: right;\n",
       "    }\n",
       "</style>\n",
       "<table border=\"1\" class=\"dataframe\">\n",
       "  <thead>\n",
       "    <tr style=\"text-align: right;\">\n",
       "      <th></th>\n",
       "      <th>CR</th>\n",
       "      <th>CR_active</th>\n",
       "      <th>avg_cost</th>\n",
       "      <th>ARPU</th>\n",
       "      <th>ARPAU</th>\n",
       "      <th>ARPPU</th>\n",
       "    </tr>\n",
       "    <tr>\n",
       "      <th>group</th>\n",
       "      <th></th>\n",
       "      <th></th>\n",
       "      <th></th>\n",
       "      <th></th>\n",
       "      <th></th>\n",
       "      <th></th>\n",
       "    </tr>\n",
       "  </thead>\n",
       "  <tbody>\n",
       "    <tr>\n",
       "      <th>A</th>\n",
       "      <td>0.73</td>\n",
       "      <td>5.07</td>\n",
       "      <td>860.710280</td>\n",
       "      <td>6.27</td>\n",
       "      <td>59.88</td>\n",
       "      <td>860.71</td>\n",
       "    </tr>\n",
       "    <tr>\n",
       "      <th>B</th>\n",
       "      <td>0.72</td>\n",
       "      <td>4.62</td>\n",
       "      <td>1108.824893</td>\n",
       "      <td>8.04</td>\n",
       "      <td>70.74</td>\n",
       "      <td>1108.82</td>\n",
       "    </tr>\n",
       "  </tbody>\n",
       "</table>\n",
       "</div>"
      ],
      "text/plain": [
       "         CR  CR_active     avg_cost  ARPU  ARPAU    ARPPU\n",
       "group                                                    \n",
       "A      0.73       5.07   860.710280  6.27  59.88   860.71\n",
       "B      0.72       4.62  1108.824893  8.04  70.74  1108.82"
      ]
     },
     "execution_count": 40,
     "metadata": {},
     "output_type": "execute_result"
    }
   ],
   "source": [
    "# создадаим таблицу с результирующими данными\n",
    "\n",
    "res = pd.DataFrame({\n",
    "        'group':       ['A', 'B'],\n",
    "        'CR':          [CR_a, CR_b],\n",
    "        'CR_active':   [CR_active_a, CR_active_b],\n",
    "        'avg_cost':    [mean_a, mean_b],\n",
    "        'ARPU':        [ARPU_a, ARPU_b],\n",
    "        'ARPAU':       [ARPAU_a, ARPAU_b],\n",
    "        'ARPPU':       [ARPPU_a, ARPPU_b]})\n",
    "    \n",
    "res.set_index('group', inplace=True)\n",
    "res"
   ]
  },
  {
   "cell_type": "markdown",
   "metadata": {},
   "source": [
    "Поскольку АБ-тестирование проводится по механике оплаты, то проверять будем только метрики, связанные с оплатой:\n",
    "- **CR_active**: конверсию смотрим только из активных пользователей в купивших;\n",
    "- **ARPAU**: средний доход с активного пользователя;\n",
    "- **ARPPU**: средний доход с платящего пользователя.\n"
   ]
  },
  {
   "cell_type": "code",
   "execution_count": 41,
   "metadata": {},
   "outputs": [
    {
     "data": {
      "image/png": "[encoded data removed]",
      "text/plain": [
       "<Figure size 864x360 with 4 Axes>"
      ]
     },
     "metadata": {},
     "output_type": "display_data"
    }
   ],
   "source": [
    "# визуализируем изменение выбранных метрик\n",
    "\n",
    "fig, axes = plt.subplots(ncols=4, figsize=(12, 5))\n",
    "for i, metric in enumerate(['avg_cost', 'CR_active', 'ARPAU', 'ARPPU']):\n",
    "    res[metric].plot(kind='bar', ax=axes[i], rot=0,  alpha=0.8, color=['green', 'grey'])\n",
    "    axes[i].set_title(f'{metric}')\n",
    "plt.tight_layout()\n",
    "plt.show()"
   ]
  },
  {
   "cell_type": "markdown",
   "metadata": {},
   "source": [
    "**Вывод:** из приведенных выше графиков видно, что выбранные метрики меняются в зависимости от тестовой группы пользователя.  \n",
    "Средняя стоимость покупки  пользователя (равна ARPPU) существенно выше в группе В. Также в тестовой группе В увеличились метрики ARPAU - средний доход с активного пользователя и ARPPU - средний доход с платящих пользователей. При этом наблюдается снижение показателя конверсии в покупку среди активных пользователей CR_active. Получается, что пользователей покупающих относительно обычных в группе В стало меньше, но сумма покупок у каждого пользователя увеличилась, по сравнению с группой А.    \n",
    "Таким образом, из именющихся данных пока не понятно, стоит ли запускать новую механику оплаты на всех пользователей.  \n",
    "Далее проверим, являются эти различия в группах статистически значимыми. "
   ]
  },
  {
   "cell_type": "markdown",
   "metadata": {},
   "source": [
    "**Проверка методом бутстрап**\n",
    "\n",
    "Выбранные метрики  **_ARPAU и ARPPU_** проверим с помощью статистических тестов.  \n",
    "Поскольку данные распределены не нормально, необходимо использовать непараметрические тесты.  \n",
    "Выбираем один из таких тестов - метод бутстрап, для подсчета доверительного интервала и проверки p-value разности между двумя группами пользователей.  "
   ]
  },
  {
   "cell_type": "code",
   "execution_count": 42,
   "metadata": {},
   "outputs": [
    {
     "data": {
      "text/html": [
       "<div>\n",
       "<style scoped>\n",
       "    .dataframe tbody tr th:only-of-type {\n",
       "        vertical-align: middle;\n",
       "    }\n",
       "\n",
       "    .dataframe tbody tr th {\n",
       "        vertical-align: top;\n",
       "    }\n",
       "\n",
       "    .dataframe thead th {\n",
       "        text-align: right;\n",
       "    }\n",
       "</style>\n",
       "<table border=\"1\" class=\"dataframe\">\n",
       "  <thead>\n",
       "    <tr style=\"text-align: right;\">\n",
       "      <th></th>\n",
       "      <th>CR</th>\n",
       "      <th>CR_active</th>\n",
       "      <th>avg_cost</th>\n",
       "      <th>ARPU</th>\n",
       "      <th>ARPAU</th>\n",
       "      <th>ARPPU</th>\n",
       "    </tr>\n",
       "    <tr>\n",
       "      <th>group</th>\n",
       "      <th></th>\n",
       "      <th></th>\n",
       "      <th></th>\n",
       "      <th></th>\n",
       "      <th></th>\n",
       "      <th></th>\n",
       "    </tr>\n",
       "  </thead>\n",
       "  <tbody>\n",
       "    <tr>\n",
       "      <th>A</th>\n",
       "      <td>0.73</td>\n",
       "      <td>5.07</td>\n",
       "      <td>860.710280</td>\n",
       "      <td>6.27</td>\n",
       "      <td>59.88</td>\n",
       "      <td>860.71</td>\n",
       "    </tr>\n",
       "    <tr>\n",
       "      <th>B</th>\n",
       "      <td>0.72</td>\n",
       "      <td>4.62</td>\n",
       "      <td>1108.824893</td>\n",
       "      <td>8.04</td>\n",
       "      <td>70.74</td>\n",
       "      <td>1108.82</td>\n",
       "    </tr>\n",
       "  </tbody>\n",
       "</table>\n",
       "</div>"
      ],
      "text/plain": [
       "         CR  CR_active     avg_cost  ARPU  ARPAU    ARPPU\n",
       "group                                                    \n",
       "A      0.73       5.07   860.710280  6.27  59.88   860.71\n",
       "B      0.72       4.62  1108.824893  8.04  70.74  1108.82"
      ]
     },
     "execution_count": 42,
     "metadata": {},
     "output_type": "execute_result"
    }
   ],
   "source": [
    "res"
   ]
  },
  {
   "cell_type": "code",
   "execution_count": 43,
   "metadata": {},
   "outputs": [],
   "source": [
    "# напишем функцию для бутстрапа и визуализации доверительных интервалов\n",
    "\n",
    "def get_bootstrap(control,                            # значения контрольной выборки\n",
    "                  test,                               # значения тестовой выборки\n",
    "                  n = 10000,                          # количество подвыборок\n",
    "                  statistic = np.mean,                # статистика - среднее\n",
    "                  metric='x'):    \n",
    "        len_data = max([len(control), len(test)])\n",
    "        boot_data = []        \n",
    "        \n",
    "        print(\"\\033[1mГипотезы:\\033[0m\")\n",
    "        print(f\"\\033[1mH0:\\033[0m {metric} в двух группах одинаковые\")\n",
    "        print(f\"\\033[1mH1:\\033[0m {metric} в двух группах различаются\")\n",
    "        \n",
    "\n",
    "        for i in (range(n)):                                                      # извлекаем подвыборки\n",
    "            sample1 = control.sample(len_data, replace = True).values     \n",
    "            sample2 = test.sample(len_data, replace = True).values\n",
    "\n",
    "            samples_delta = sample2 - sample1                                      # находим разницу подвыборок\n",
    "            boot_data.append(statistic(samples_delta))                             # применяем статистику для разниц подвыборок\n",
    "\n",
    "        boot_df = pd.DataFrame(boot_data)\n",
    "\n",
    "        # устанавливаем доверительный интервал \n",
    "        left_q = (1 - 0.95) / 2                    # левая граница\n",
    "        right_q = 1 - (1 - 0.95) / 2               # правая граница\n",
    "        ci = boot_df.quantile([left_q, right_q])\n",
    "\n",
    "        p1 = norm.cdf(x = 0, loc = np.mean(boot_data), scale = np.std(boot_data))\n",
    "        p2 = norm.cdf(x = 0, loc = -np.mean(boot_data), scale = np.std(boot_data))\n",
    "        p_value = min(p1, p2) * 2                   # p-значение для разности между двумя выборками\n",
    "\n",
    "        # рисуем график\n",
    "        plt.hist(boot_df[0], bins = 50, color='tan', edgecolor='gray')\n",
    "        plt.vlines(ci, ymin=0, ymax=250, color='red', linestyle='--')\n",
    "        plt.title(f\"{metric}\")        \n",
    "        plt.show()    \n",
    "        \n",
    "        metric_res = {\"ci - границы доверительного интервала\": ci, \"p_value\": p_value}\n",
    "     \n",
    "        # проверка гипотезы     \n",
    "        if metric_res['p_value'] < 0.05:\n",
    "            print(\"Гипотеза H0 отвергается в пользу альтернативной гипотезы H1\\n\")\n",
    "        else:\n",
    "            print(\"Гипотеза H0 не отвергается\\n\")\n",
    "        \n",
    "        # вывод результатов\n",
    "        print(f\"\\033[1m{metric}\\033[0m\")\n",
    "        return metric_res "
   ]
  },
  {
   "cell_type": "code",
   "execution_count": 44,
   "metadata": {},
   "outputs": [],
   "source": [
    "# для метрики ARPU\n",
    "\n",
    "#arpu_res = get_bootstrap(users.query(\"grp == 'A' and rev>0\").rev, users.query(\"grp == 'B' and rev>0\").rev, metric='ARPU')\n",
    "#arpu_res"
   ]
  },
  {
   "cell_type": "code",
   "execution_count": 45,
   "metadata": {},
   "outputs": [
    {
     "name": "stdout",
     "output_type": "stream",
     "text": [
      "\u001b[1mГипотезы:\u001b[0m\n",
      "\u001b[1mH0:\u001b[0m ARPAU в двух группах одинаковые\n",
      "\u001b[1mH1:\u001b[0m ARPAU в двух группах различаются\n"
     ]
    },
    {
     "data": {
      "image/png": "[encoded data removed]",
      "text/plain": [
       "<Figure size 720x360 with 1 Axes>"
      ]
     },
     "metadata": {},
     "output_type": "display_data"
    },
    {
     "name": "stdout",
     "output_type": "stream",
     "text": [
      "Гипотеза H0 отвергается в пользу альтернативной гипотезы H1\n",
      "\n",
      "\u001b[1mARPAU\u001b[0m\n"
     ]
    },
    {
     "data": {
      "text/plain": [
       "{'ci - границы доверительного интервала':                0\n",
       " 0.025   0.382718\n",
       " 0.975  20.633258,\n",
       " 'p_value': 0.039571488099012744}"
      ]
     },
     "execution_count": 45,
     "metadata": {},
     "output_type": "execute_result"
    }
   ],
   "source": [
    "# для метрики ARPAU\n",
    "\n",
    "arpau_res = get_bootstrap(activ_group_a.rev, activ_group_b.rev, metric='ARPAU')\n",
    "arpau_res"
   ]
  },
  {
   "cell_type": "code",
   "execution_count": 46,
   "metadata": {},
   "outputs": [
    {
     "name": "stdout",
     "output_type": "stream",
     "text": [
      "\u001b[1mГипотезы:\u001b[0m\n",
      "\u001b[1mH0:\u001b[0m ARPPU в двух группах одинаковые\n",
      "\u001b[1mH1:\u001b[0m ARPPU в двух группах различаются\n"
     ]
    },
    {
     "data": {
      "image/png": "[encoded data removed]",
      "text/plain": [
       "<Figure size 720x360 with 1 Axes>"
      ]
     },
     "metadata": {},
     "output_type": "display_data"
    },
    {
     "name": "stdout",
     "output_type": "stream",
     "text": [
      "Гипотеза H0 отвергается в пользу альтернативной гипотезы H1\n",
      "\n",
      "\u001b[1mARPPU\u001b[0m\n"
     ]
    },
    {
     "data": {
      "text/plain": [
       "{'ci - границы доверительного интервала':                 0\n",
       " 0.025  190.039897\n",
       " 0.975  458.341014,\n",
       " 'p_value': 2.344808093760201e-06}"
      ]
     },
     "execution_count": 46,
     "metadata": {},
     "output_type": "execute_result"
    }
   ],
   "source": [
    "# для метрики ARPPU\n",
    "\n",
    "arppu_res = get_bootstrap(activ_users.query(\"grp == 'A' and rev>0\").rev, activ_users.query(\"grp == 'B' and rev>0\").rev, metric='ARPPU')\n",
    "arppu_res"
   ]
  },
  {
   "cell_type": "markdown",
   "metadata": {},
   "source": [
    "**Выводы:** Проведя проверку методом бутстрапа для метрик ARPAU, ARPРU видим, что доверительные интервалы всех трех метрик не пересекают нуллевые значения. При этом, метрика ARPAU имеет левую границу близко расположенную к 0 значению, но все же при многократном повторе также, как и две другие метрики ее не пересекает.  \n",
    "\n",
    "Таким образом, гипотеза **_Н0_** - отклоняется во всех случаях в пользу **_Н1_**, которая говорит об **_имеющихся статистически значимых различиях_** в тестовой и контрольной группах пользователей. При этом, изменения механики оплаты смогли повлиять на общее увеличение выручки. И, учитывая факт, что значение конверсии изменилось не настолько сильно в группе В, я считаю, что следует попробовать запустить новую механику оплаты на всех пользователей. Но возможно, в будущем стоит повторить АБ-тест через какое-то время, при этом сделав выборки групп более равномерными и не сильно отличающимися по размеру.  "
   ]
  },
  {
   "cell_type": "code",
   "execution_count": null,
   "metadata": {},
   "outputs": [],
   "source": []
  },
  {
   "cell_type": "markdown",
   "metadata": {},
   "source": [
    "### Задание 2.  SQL\n",
    "_____\n",
    "**2.1 Очень усердные ученики.**   \n",
    "\n",
    "Образовательные курсы состоят из различных уроков, каждый из которых состоит из нескольких маленьких заданий. Каждое такое маленькое задание называется \"горошиной\".  \n",
    "Назовём очень усердным учеником того пользователя, который **_хотя бы раз за текущий месяц правильно решил 20 горошин._**  \n",
    "Необходимо написать оптимальный запрос, который даст информацию о количестве очень усердных студентов.  \n",
    "**NB!** Под усердным студентом мы понимаем студента, который правильно решил 20 задач за текущий месяц.  \n",
    "\n",
    "**_Данные:_**  в таблице _default.peas_   \n",
    "\n",
    "|Название атрибута |Тип атрибута |Смысловое значение |\n",
    "|:-----------------|:------------|:------------------|\n",
    "|st_id |int |ID ученика |\n",
    "|timest |timestamp |Время решения карточки |\n",
    "|correct |bool |Правильно ли решена горошина? |\n",
    "|subject |text\t|Дисциплина, в которой находится горошина |  \n"
   ]
  },
  {
   "cell_type": "code",
   "execution_count": 47,
   "metadata": {},
   "outputs": [],
   "source": [
    "#импортируем нужные библиотеки\n",
    "import pandahouse as ph\n",
    "import pandas as pd\n",
    "\n",
    "\n",
    "# объявляем параметры подключения (создаем словарь `connection`, задавая параметры для подключения к default:)\n",
    "\n",
    "connection_default = {'host': 'https://clickhouse.lab.karpov.courses',\n",
    "                      'database':'default',\n",
    "                      'user':'student', \n",
    "                      'password':'dpo_python_2020'\n",
    "                     }"
   ]
  },
  {
   "cell_type": "code",
   "execution_count": 48,
   "metadata": {},
   "outputs": [
    {
     "data": {
      "text/html": [
       "<div>\n",
       "<style scoped>\n",
       "    .dataframe tbody tr th:only-of-type {\n",
       "        vertical-align: middle;\n",
       "    }\n",
       "\n",
       "    .dataframe tbody tr th {\n",
       "        vertical-align: top;\n",
       "    }\n",
       "\n",
       "    .dataframe thead th {\n",
       "        text-align: right;\n",
       "    }\n",
       "</style>\n",
       "<table border=\"1\" class=\"dataframe\">\n",
       "  <thead>\n",
       "    <tr style=\"text-align: right;\">\n",
       "      <th></th>\n",
       "      <th>date_trunc(\\'month\\', timest)</th>\n",
       "    </tr>\n",
       "  </thead>\n",
       "  <tbody>\n",
       "    <tr>\n",
       "      <th>0</th>\n",
       "      <td>2021-10-01</td>\n",
       "    </tr>\n",
       "  </tbody>\n",
       "</table>\n",
       "</div>"
      ],
      "text/plain": [
       "  date_trunc(\\'month\\', timest)\n",
       "0                    2021-10-01"
      ]
     },
     "execution_count": 48,
     "metadata": {},
     "output_type": "execute_result"
    }
   ],
   "source": [
    "# проверяем сколько месяцев \n",
    "\n",
    "query_month = \"\"\"\n",
    "SELECT distinct(date_trunc('month', timest)) \n",
    "FROM default.peas; \n",
    "\"\"\"\n",
    "df_month = ph.read_clickhouse(query_month, connection=connection_default)\n",
    "df_month"
   ]
  },
  {
   "cell_type": "markdown",
   "metadata": {},
   "source": [
    "Видим, что в данной таблице присутсвуют данные только по одному месяцу (октябрь).  \n",
    "\n",
    "Теперь посмотрим количество задач, правильно решенных каждым учеником и отсортируем только тех, кто решил 20 и более задач."
   ]
  },
  {
   "cell_type": "code",
   "execution_count": 49,
   "metadata": {},
   "outputs": [
    {
     "data": {
      "text/html": [
       "<div>\n",
       "<style scoped>\n",
       "    .dataframe tbody tr th:only-of-type {\n",
       "        vertical-align: middle;\n",
       "    }\n",
       "\n",
       "    .dataframe tbody tr th {\n",
       "        vertical-align: top;\n",
       "    }\n",
       "\n",
       "    .dataframe thead th {\n",
       "        text-align: right;\n",
       "    }\n",
       "</style>\n",
       "<table border=\"1\" class=\"dataframe\">\n",
       "  <thead>\n",
       "    <tr style=\"text-align: right;\">\n",
       "      <th></th>\n",
       "      <th>st_id</th>\n",
       "      <th>count(correct)</th>\n",
       "    </tr>\n",
       "  </thead>\n",
       "  <tbody>\n",
       "    <tr>\n",
       "      <th>0</th>\n",
       "      <td>510283</td>\n",
       "      <td>23</td>\n",
       "    </tr>\n",
       "    <tr>\n",
       "      <th>1</th>\n",
       "      <td>370846</td>\n",
       "      <td>34</td>\n",
       "    </tr>\n",
       "    <tr>\n",
       "      <th>2</th>\n",
       "      <td>43985</td>\n",
       "      <td>28</td>\n",
       "    </tr>\n",
       "    <tr>\n",
       "      <th>3</th>\n",
       "      <td>335446</td>\n",
       "      <td>45</td>\n",
       "    </tr>\n",
       "    <tr>\n",
       "      <th>4</th>\n",
       "      <td>899745</td>\n",
       "      <td>45</td>\n",
       "    </tr>\n",
       "  </tbody>\n",
       "</table>\n",
       "</div>"
      ],
      "text/plain": [
       "    st_id  count(correct)\n",
       "0  510283              23\n",
       "1  370846              34\n",
       "2   43985              28\n",
       "3  335446              45\n",
       "4  899745              45"
      ]
     },
     "execution_count": 49,
     "metadata": {},
     "output_type": "execute_result"
    }
   ],
   "source": [
    "# количество правильно решенных задач каждым учеником\n",
    "\n",
    "query_tasks = \"\"\"\n",
    "SELECT st_id, count(correct) \n",
    "FROM default.peas\n",
    "WHERE correct == TRUE\n",
    "GROUP BY st_id, DATE_TRUNC('month', timest)\n",
    "HAVING sum(correct)>=20;  \n",
    "\"\"\"\n",
    "df_tasks = ph.read_clickhouse(query_tasks, connection=connection_default)\n",
    "df_tasks.head()"
   ]
  },
  {
   "cell_type": "code",
   "execution_count": 50,
   "metadata": {},
   "outputs": [
    {
     "data": {
      "text/html": [
       "<div>\n",
       "<style scoped>\n",
       "    .dataframe tbody tr th:only-of-type {\n",
       "        vertical-align: middle;\n",
       "    }\n",
       "\n",
       "    .dataframe tbody tr th {\n",
       "        vertical-align: top;\n",
       "    }\n",
       "\n",
       "    .dataframe thead th {\n",
       "        text-align: right;\n",
       "    }\n",
       "</style>\n",
       "<table border=\"1\" class=\"dataframe\">\n",
       "  <thead>\n",
       "    <tr style=\"text-align: right;\">\n",
       "      <th></th>\n",
       "      <th>num_stud</th>\n",
       "    </tr>\n",
       "  </thead>\n",
       "  <tbody>\n",
       "    <tr>\n",
       "      <th>0</th>\n",
       "      <td>136</td>\n",
       "    </tr>\n",
       "  </tbody>\n",
       "</table>\n",
       "</div>"
      ],
      "text/plain": [
       "   num_stud\n",
       "0       136"
      ]
     },
     "execution_count": 50,
     "metadata": {},
     "output_type": "execute_result"
    }
   ],
   "source": [
    "# с помощью вложенного запроса найдем общее количество усердных учеников\n",
    "\n",
    "query_peas = \"\"\"               \n",
    "SELECT count(DISTINCT st_id) AS num_stud\n",
    "FROM (\n",
    "    SELECT st_id, count(correct) \n",
    "    FROM default.peas\n",
    "    WHERE correct == TRUE\n",
    "    GROUP BY st_id, DATE_TRUNC('month', timest)\n",
    "    HAVING sum(correct)>=20);\n",
    "\"\"\"\n",
    "df_peas = ph.read_clickhouse(query_peas, connection=connection_default)\n",
    "df_peas"
   ]
  },
  {
   "cell_type": "markdown",
   "metadata": {},
   "source": [
    "Всего 136 очень усердных учеников.  \n",
    "\n",
    "______\n",
    "    \n",
    "**2.2 Оптимизация воронки**  \n",
    "\n",
    "**Условие**  \n",
    "\n",
    "Образовательная платформа предлагает пройти студентам курсы по модели trial: студент может решить бесплатно лишь 30 горошин в день. Для неограниченного количества заданий в определенной дисциплине студенту необходимо приобрести полный доступ. Команда провела эксперимент, где был протестирован новый экран оплаты.  \n",
    "\n",
    "**_Данные:_**  \n",
    "\n",
    "- таблица default.peas (данные выше)\n",
    "- таблица default.studs\n",
    "\n",
    "| Название атрибута | Тип атрибута | Смысловое значение | \n",
    "| :----------- | :----------- |:----------- | \n",
    "| st_id   | int   | ID ученика | \n",
    "| test_grp   | text   | Метка ученика в данном эксперименте | \n",
    "\n",
    "\n",
    "- таблица default.final_project_check\n",
    "\n",
    "| Название атрибута | Тип атрибута | Смысловое значение | \n",
    "| :----------- | :----------- |:----------- | \n",
    "|st_id  | int | ID ученика |\n",
    "| sale_time | timestamp | Время покупки |\n",
    "|money  |int  | Цена, по которой приобрели данный курс |\n",
    "|subject  | text |  |  \n",
    "\t \t\n",
    "**_Что найти:_**  \n",
    "в одном запросе выгрузить следующую информацию о группах пользователей:\n",
    "- ARPU \n",
    "- ARPAU \n",
    "- CR в покупку \n",
    "- СR активного пользователя в покупку \n",
    "- CR пользователя из активности по математике (subject = ’math’) в покупку курса по математике\n",
    "\n",
    "**ARPU** считается относительно всех пользователей, попавших в группы.  \n",
    "Активным считается пользователь, за все время решивший **_больше 10 задач правильно в любых дисциплинах._**  \n",
    "Активным по математике считается пользователь, за все время решивший **_2 или больше задач правильно по математике._**  \n",
    "\n",
    "Распишем все метрики, что чем является:  \n",
    "- **ARPU (Average Revenue Per User )** - отношение выручки к общему количеству пользователей: сумма доходов по всем студентам, деленная на количество уникальных студентов \n",
    "- **ARPAU (Average Revenue Per Active User)** - отношение выручки к количеству активных пользователей: сумма доходов только от активных студентов, деленная на количество уникальных активных студентов\n",
    "- **CR в покупку** - отношение количества купивших пользователей к общему количеству пользователей: количество купивших студентов, деленная на количество уникальных студентов\n",
    "- **СR активного пользователя в покупку** - отношение количества купивших активных пользователей к общему количеству активных пользователей:  количество купивших активных студентов, деленная на количество уникальных активных студентов\n",
    "- **CR пользователя из активности по математике в покупку курса по математике** - отношение количества купивших активных в математике студентов к общему количеству активных в математике студентов (subject = \"math\").  \n"
   ]
  },
  {
   "cell_type": "code",
   "execution_count": 51,
   "metadata": {},
   "outputs": [
    {
     "data": {
      "text/html": [
       "<div>\n",
       "<style scoped>\n",
       "    .dataframe tbody tr th:only-of-type {\n",
       "        vertical-align: middle;\n",
       "    }\n",
       "\n",
       "    .dataframe tbody tr th {\n",
       "        vertical-align: top;\n",
       "    }\n",
       "\n",
       "    .dataframe thead th {\n",
       "        text-align: right;\n",
       "    }\n",
       "</style>\n",
       "<table border=\"1\" class=\"dataframe\">\n",
       "  <thead>\n",
       "    <tr style=\"text-align: right;\">\n",
       "      <th></th>\n",
       "      <th>test_grp</th>\n",
       "      <th>ARPU</th>\n",
       "      <th>CR</th>\n",
       "    </tr>\n",
       "  </thead>\n",
       "  <tbody>\n",
       "    <tr>\n",
       "      <th>0</th>\n",
       "      <td>control</td>\n",
       "      <td>4540.983607</td>\n",
       "      <td>0.052459</td>\n",
       "    </tr>\n",
       "    <tr>\n",
       "      <th>1</th>\n",
       "      <td>pilot</td>\n",
       "      <td>11508.474576</td>\n",
       "      <td>0.111864</td>\n",
       "    </tr>\n",
       "  </tbody>\n",
       "</table>\n",
       "</div>"
      ],
      "text/plain": [
       "  test_grp          ARPU        CR\n",
       "0  control   4540.983607  0.052459\n",
       "1    pilot  11508.474576  0.111864"
      ]
     },
     "execution_count": 51,
     "metadata": {},
     "output_type": "execute_result"
    }
   ],
   "source": [
    "# метрики ARPU и CR пользователей  можно посчитать в одном запросе, пишем запрос\n",
    "\n",
    "query_arpu_cr = \"\"\"\n",
    "SELECT\n",
    "      test_grp,\n",
    "      SUM(f.money) / uniqExact(s.st_id) AS ARPU,\n",
    "      COUNT(DISTINCT f.st_id) / COUNT(DISTINCT s.st_id) AS CR\n",
    "FROM\n",
    "    default.studs s \n",
    "    LEFT JOIN default.final_project_check f ON s.st_id = f.st_id\n",
    "GROUP BY test_grp\n",
    "\n",
    "\"\"\"\n",
    "# записываем результат в пандасовский датафрейм\n",
    "df_arpu_cr = ph.read_clickhouse(query_arpu_cr, connection=connection_default)  \n",
    "df_arpu_cr"
   ]
  },
  {
   "cell_type": "code",
   "execution_count": 52,
   "metadata": {},
   "outputs": [
    {
     "data": {
      "text/html": [
       "<div>\n",
       "<style scoped>\n",
       "    .dataframe tbody tr th:only-of-type {\n",
       "        vertical-align: middle;\n",
       "    }\n",
       "\n",
       "    .dataframe tbody tr th {\n",
       "        vertical-align: top;\n",
       "    }\n",
       "\n",
       "    .dataframe thead th {\n",
       "        text-align: right;\n",
       "    }\n",
       "</style>\n",
       "<table border=\"1\" class=\"dataframe\">\n",
       "  <thead>\n",
       "    <tr style=\"text-align: right;\">\n",
       "      <th></th>\n",
       "      <th>test_grp</th>\n",
       "      <th>ARPAU</th>\n",
       "    </tr>\n",
       "  </thead>\n",
       "  <tbody>\n",
       "    <tr>\n",
       "      <th>0</th>\n",
       "      <td>control</td>\n",
       "      <td>10393.700787</td>\n",
       "    </tr>\n",
       "    <tr>\n",
       "      <th>1</th>\n",
       "      <td>pilot</td>\n",
       "      <td>29739.583333</td>\n",
       "    </tr>\n",
       "  </tbody>\n",
       "</table>\n",
       "</div>"
      ],
      "text/plain": [
       "  test_grp         ARPAU\n",
       "0  control  10393.700787\n",
       "1    pilot  29739.583333"
      ]
     },
     "execution_count": 52,
     "metadata": {},
     "output_type": "execute_result"
    }
   ],
   "source": [
    "# теперь считаем метрику ARPAU\n",
    "\n",
    "query_arpau = \"\"\"\n",
    "SELECT\n",
    "      test_grp,\n",
    "      SUM(f.money) / uniqExact(s.st_id) AS ARPAU\n",
    "FROM\n",
    "    default.studs s \n",
    "    LEFT JOIN default.final_project_check f ON s.st_id = f.st_id    \n",
    "WHERE s.st_id in \n",
    "                (\n",
    "                SELECT st_id\n",
    "                FROM default.peas\n",
    "                WHERE correct = 1\n",
    "                GROUP BY st_id\n",
    "                HAVING  COUNT(correct) > 10\n",
    "                )   \n",
    "GROUP BY test_grp\n",
    "\"\"\"\n",
    "# записываем результат в пандасовский датафрейм\n",
    "df_arpau = ph.read_clickhouse(query_arpau, connection=connection_default)  \n",
    "df_arpau"
   ]
  },
  {
   "cell_type": "code",
   "execution_count": 53,
   "metadata": {},
   "outputs": [
    {
     "data": {
      "text/html": [
       "<div>\n",
       "<style scoped>\n",
       "    .dataframe tbody tr th:only-of-type {\n",
       "        vertical-align: middle;\n",
       "    }\n",
       "\n",
       "    .dataframe tbody tr th {\n",
       "        vertical-align: top;\n",
       "    }\n",
       "\n",
       "    .dataframe thead th {\n",
       "        text-align: right;\n",
       "    }\n",
       "</style>\n",
       "<table border=\"1\" class=\"dataframe\">\n",
       "  <thead>\n",
       "    <tr style=\"text-align: right;\">\n",
       "      <th></th>\n",
       "      <th>test_grp</th>\n",
       "      <th>CR_active</th>\n",
       "    </tr>\n",
       "  </thead>\n",
       "  <tbody>\n",
       "    <tr>\n",
       "      <th>0</th>\n",
       "      <td>control</td>\n",
       "      <td>0.110236</td>\n",
       "    </tr>\n",
       "    <tr>\n",
       "      <th>1</th>\n",
       "      <td>pilot</td>\n",
       "      <td>0.260417</td>\n",
       "    </tr>\n",
       "  </tbody>\n",
       "</table>\n",
       "</div>"
      ],
      "text/plain": [
       "  test_grp  CR_active\n",
       "0  control   0.110236\n",
       "1    pilot   0.260417"
      ]
     },
     "execution_count": 53,
     "metadata": {},
     "output_type": "execute_result"
    }
   ],
   "source": [
    "# считаем CR_active, конверсию из активного пользователя в покупку\n",
    "\n",
    "query_cr_active = \"\"\"\n",
    "SELECT\n",
    "    test_grp,\n",
    "    COUNT(DISTINCT CASE \n",
    "                    WHEN f.money > 0 THEN f.st_id \n",
    "                    END) / COUNT(DISTINCT s.st_id) AS CR_active\n",
    "FROM\n",
    "    default.studs s \n",
    "    LEFT JOIN default.final_project_check f ON s.st_id = f.st_id\n",
    "WHERE s.st_id IN \n",
    "    (\n",
    "        SELECT st_id\n",
    "        FROM default.peas\n",
    "        WHERE correct = 1\n",
    "        GROUP BY st_id\n",
    "        HAVING COUNT(correct) > 10\n",
    "    )  \n",
    "GROUP BY test_grp;\n",
    "\n",
    "\"\"\"\n",
    "# записываем результат в пандасовский датафрейм\n",
    "df_cr_active = ph.read_clickhouse(query_cr_active, connection=connection_default)  \n",
    "df_cr_active"
   ]
  },
  {
   "cell_type": "code",
   "execution_count": 54,
   "metadata": {},
   "outputs": [
    {
     "data": {
      "text/html": [
       "<div>\n",
       "<style scoped>\n",
       "    .dataframe tbody tr th:only-of-type {\n",
       "        vertical-align: middle;\n",
       "    }\n",
       "\n",
       "    .dataframe tbody tr th {\n",
       "        vertical-align: top;\n",
       "    }\n",
       "\n",
       "    .dataframe thead th {\n",
       "        text-align: right;\n",
       "    }\n",
       "</style>\n",
       "<table border=\"1\" class=\"dataframe\">\n",
       "  <thead>\n",
       "    <tr style=\"text-align: right;\">\n",
       "      <th></th>\n",
       "      <th>test_grp</th>\n",
       "      <th>CR_math</th>\n",
       "    </tr>\n",
       "  </thead>\n",
       "  <tbody>\n",
       "    <tr>\n",
       "      <th>0</th>\n",
       "      <td>control</td>\n",
       "      <td>0.061224</td>\n",
       "    </tr>\n",
       "    <tr>\n",
       "      <th>1</th>\n",
       "      <td>pilot</td>\n",
       "      <td>0.095238</td>\n",
       "    </tr>\n",
       "  </tbody>\n",
       "</table>\n",
       "</div>"
      ],
      "text/plain": [
       "  test_grp   CR_math\n",
       "0  control  0.061224\n",
       "1    pilot  0.095238"
      ]
     },
     "execution_count": 54,
     "metadata": {},
     "output_type": "execute_result"
    }
   ],
   "source": [
    "# добавляем условия и подобным образом считаем CR_math\n",
    "\n",
    "query_cr_math = \"\"\"\n",
    "SELECT\n",
    "    test_grp,\n",
    "    COUNT(DISTINCT CASE WHEN f.money > 0 AND subject = 'Math' THEN f.st_id END) / COUNT(DISTINCT s.st_id) AS CR_math\n",
    "FROM\n",
    "    default.studs s \n",
    "LEFT JOIN default.final_project_check f ON s.st_id = f.st_id\n",
    "WHERE s.st_id IN \n",
    "    (\n",
    "        SELECT st_id\n",
    "        FROM default.peas\n",
    "        WHERE correct = 1\n",
    "        AND subject = 'Math'\n",
    "        GROUP BY st_id\n",
    "        HAVING COUNT(correct) >= 2\n",
    "    )  \n",
    "GROUP BY test_grp;\n",
    "\n",
    "\"\"\"\n",
    "# записываем результат в пандасовский датафрейм\n",
    "df_cr_math = ph.read_clickhouse(query_cr_math, connection=connection_default)  \n",
    "df_cr_math"
   ]
  },
  {
   "cell_type": "markdown",
   "metadata": {},
   "source": [
    "Мы получили все метрики по отдельности, теперь их нужно объединить в один запрос, чтобы все метрики по каждой группе отображались в одной табличке."
   ]
  },
  {
   "cell_type": "code",
   "execution_count": 55,
   "metadata": {},
   "outputs": [
    {
     "data": {
      "text/html": [
       "<div>\n",
       "<style scoped>\n",
       "    .dataframe tbody tr th:only-of-type {\n",
       "        vertical-align: middle;\n",
       "    }\n",
       "\n",
       "    .dataframe tbody tr th {\n",
       "        vertical-align: top;\n",
       "    }\n",
       "\n",
       "    .dataframe thead th {\n",
       "        text-align: right;\n",
       "    }\n",
       "</style>\n",
       "<table border=\"1\" class=\"dataframe\">\n",
       "  <thead>\n",
       "    <tr style=\"text-align: right;\">\n",
       "      <th></th>\n",
       "      <th>test_group</th>\n",
       "      <th>ARPU</th>\n",
       "      <th>ARPAU</th>\n",
       "      <th>CR</th>\n",
       "      <th>CR_active</th>\n",
       "      <th>CR_math</th>\n",
       "    </tr>\n",
       "  </thead>\n",
       "  <tbody>\n",
       "    <tr>\n",
       "      <th>0</th>\n",
       "      <td>control</td>\n",
       "      <td>4540.983607</td>\n",
       "      <td>10820.3125</td>\n",
       "      <td>0.052459</td>\n",
       "      <td>0.117188</td>\n",
       "      <td>0.080000</td>\n",
       "    </tr>\n",
       "    <tr>\n",
       "      <th>1</th>\n",
       "      <td>pilot</td>\n",
       "      <td>11508.474576</td>\n",
       "      <td>35000.0000</td>\n",
       "      <td>0.111864</td>\n",
       "      <td>0.278351</td>\n",
       "      <td>0.116279</td>\n",
       "    </tr>\n",
       "  </tbody>\n",
       "</table>\n",
       "</div>"
      ],
      "text/plain": [
       "  test_group          ARPU       ARPAU        CR  CR_active   CR_math\n",
       "0    control   4540.983607  10820.3125  0.052459   0.117188  0.080000\n",
       "1      pilot  11508.474576  35000.0000  0.111864   0.278351  0.116279"
      ]
     },
     "execution_count": 55,
     "metadata": {},
     "output_type": "execute_result"
    }
   ],
   "source": [
    "# соединяем в один запрос (с помощью WITH) и получаем итоговый, который нам выводит итоговую таблицу\n",
    "\n",
    "query_itog = \"\"\"                         \n",
    "WITH \n",
    "active_st AS\n",
    "    ( -- активные\n",
    "    SELECT st_id\n",
    "    FROM default.peas\n",
    "    WHERE correct = 1\n",
    "    GROUP BY st_id\n",
    "    HAVING  COUNT(correct) > 10\n",
    "    ),\n",
    "math_st AS\n",
    "    ( -- активные по Математике\n",
    "    SELECT st_id\n",
    "    FROM default.peas\n",
    "    WHERE correct = 1 AND subject = 'Math'\n",
    "    GROUP BY st_id\n",
    "    HAVING COUNT(correct) >= 2 \n",
    "    ),\n",
    "act_buy_st AS\n",
    "    ( -- активные, которые купили\n",
    "    SELECT p.st_id\n",
    "    FROM default.peas p\n",
    "    LEFT JOIN default.final_project_check f ON p.st_id = f.st_id\n",
    "    WHERE correct = 1 AND f.money>0\n",
    "    GROUP BY p.st_id\n",
    "    HAVING  COUNT(correct) > 10 \n",
    "    )                                       \n",
    "SELECT\n",
    "      s.test_grp AS test_group,\n",
    "      SUM(f.money) / uniqExact(s.st_id) AS ARPU,\n",
    "      SUM(a.money) / uniqExact(a.st_id) AS ARPAU,  \n",
    "      COUNT(DISTINCT f.st_id) / COUNT(DISTINCT s.st_id) AS CR,\n",
    "      COUNT(DISTINCT CASE \n",
    "                    WHEN f.money > 0 THEN b.st_id \n",
    "                    END) / COUNT(DISTINCT a.st_id) AS CR_active,\n",
    "      COUNT(DISTINCT CASE \n",
    "                    WHEN f.money > 0 AND subject = 'Math' THEN m.st_id \n",
    "                    END) / COUNT(DISTINCT m.st_id) AS CR_math  \n",
    "FROM\n",
    "    default.studs s \n",
    "    LEFT JOIN default.final_project_check f ON s.st_id = f.st_id\n",
    "    \n",
    "    LEFT JOIN active_st a ON s.st_id = a.st_id\n",
    "    LEFT JOIN act_buy_st b ON s.st_id = b.st_id\n",
    "    LEFT JOIN math_st m ON s.st_id = m.st_id\n",
    "\n",
    "GROUP BY s.test_grp\n",
    "\n",
    "\"\"\"\n",
    "df_itog = ph.read_clickhouse(query_itog, connection=connection_default)\n",
    "df_itog"
   ]
  },
  {
   "cell_type": "markdown",
   "metadata": {},
   "source": [
    "Получили все показатели, теперь приведем их к нормальному виду, ARPU и ARPAU округлим до целого числа, а метрики конверсий - отобразим в процентах с точностью до сотых."
   ]
  },
  {
   "cell_type": "code",
   "execution_count": 56,
   "metadata": {},
   "outputs": [
    {
     "data": {
      "text/html": [
       "<div>\n",
       "<style scoped>\n",
       "    .dataframe tbody tr th:only-of-type {\n",
       "        vertical-align: middle;\n",
       "    }\n",
       "\n",
       "    .dataframe tbody tr th {\n",
       "        vertical-align: top;\n",
       "    }\n",
       "\n",
       "    .dataframe thead th {\n",
       "        text-align: right;\n",
       "    }\n",
       "</style>\n",
       "<table border=\"1\" class=\"dataframe\">\n",
       "  <thead>\n",
       "    <tr style=\"text-align: right;\">\n",
       "      <th></th>\n",
       "      <th>test_group</th>\n",
       "      <th>ARPU</th>\n",
       "      <th>ARPAU</th>\n",
       "      <th>CR</th>\n",
       "      <th>CR_active</th>\n",
       "      <th>CR_math</th>\n",
       "    </tr>\n",
       "  </thead>\n",
       "  <tbody>\n",
       "    <tr>\n",
       "      <th>0</th>\n",
       "      <td>control</td>\n",
       "      <td>4541.0</td>\n",
       "      <td>10820.0</td>\n",
       "      <td>5.0%</td>\n",
       "      <td>12.0%</td>\n",
       "      <td>8.0%</td>\n",
       "    </tr>\n",
       "    <tr>\n",
       "      <th>1</th>\n",
       "      <td>pilot</td>\n",
       "      <td>11508.0</td>\n",
       "      <td>35000.0</td>\n",
       "      <td>11.0%</td>\n",
       "      <td>28.0%</td>\n",
       "      <td>12.0%</td>\n",
       "    </tr>\n",
       "  </tbody>\n",
       "</table>\n",
       "</div>"
      ],
      "text/plain": [
       "  test_group     ARPU    ARPAU     CR CR_active CR_math\n",
       "0    control   4541.0  10820.0   5.0%     12.0%    8.0%\n",
       "1      pilot  11508.0  35000.0  11.0%     28.0%   12.0%"
      ]
     },
     "execution_count": 56,
     "metadata": {},
     "output_type": "execute_result"
    }
   ],
   "source": [
    "def convert(x):\n",
    "    x[['ARPU', 'ARPAU']] = round(x[['ARPU', 'ARPAU']])\n",
    "    x[['CR', 'CR_active', 'CR_math']] = round(x[['CR', 'CR_active', 'CR_math']]*100)\n",
    "    x[['CR', 'CR_active', 'CR_math']] = x[['CR', 'CR_active', 'CR_math']].astype(str) + '%'\n",
    "    #x.style.set_caption('Group Metrics')\n",
    "    return x\n",
    "\n",
    "group_metrics = convert(df_itog)\n",
    "group_metrics"
   ]
  },
  {
   "cell_type": "markdown",
   "metadata": {},
   "source": [
    "**Вывод:**  Получили итоговую таблицу с показателями ARPU, ARPAU, CR, CR_active, CR_math.  \n",
    "Видно, что в тестовой группе pilot - все показатели увеличились, по сравнению с показателями контрольной группы в два и более раза. В результате проведенного эксперимента можно заключить, что новый экран оплаты положительно влияет как на конверсию, так и на выручку с каждого пользователя. \n"
   ]
  },
  {
   "cell_type": "code",
   "execution_count": null,
   "metadata": {},
   "outputs": [],
   "source": []
  },
  {
   "cell_type": "markdown",
   "metadata": {},
   "source": [
    "### Задание 3. Python\n",
    "\n",
    "1. Реализуйте функцию, которая будет автоматически подгружать информацию из дополнительного файла groups_add.csv (заголовки могут отличаться) и на основании дополнительных параметров пересчитывать метрики.  "
   ]
  },
  {
   "cell_type": "code",
   "execution_count": 57,
   "metadata": {},
   "outputs": [],
   "source": [
    "# напишем функцию, выводящую таблицу с итоговыми результатами метрик\n",
    "\n",
    "def count_metrics(df, link):\n",
    "    \n",
    "    base_url = 'https://cloud-api.yandex.net/v1/disk/public/resources/download?'\n",
    "\n",
    "    group_add_df  = pd.read_csv(requests.get(base_url + urlencode(dict(public_key=link))).json()['href'])\n",
    "    group_add_df.rename(columns=({group_add_df.columns[0]:'id', group_add_df.columns[1]:'grp'}), inplace=True)\n",
    "    \n",
    "    # Объединение файлов по столбцу 'id'\n",
    "    \n",
    "    #users_df = pd.concat([df, group_add_df], ignore_index=True)#.rename(columns={'id':'student_id'})\n",
    "    users_df = pd.merge(df, group_add_df, on=['id', 'grp'], how='left')\n",
    "    \n",
    "    # объединим полученные данные с данными датасета checks\n",
    "    \n",
    "    users = pd.merge(users_df, checks.rename(columns={'student_id':'id'}), on='id', how='left').fillna(0)\n",
    "    activ_users = users.merge(activ_stud.rename(columns={'student_id':'id'}), how='inner', on='id')\n",
    "    \n",
    "    # добавим столбец совершена ли покупка в день эксперимента\n",
    "    users['buy']       = users.rev.apply(lambda x: 'buy' if x > 0 else 'not_buy')\n",
    "    activ_users['buy'] = activ_users.rev.apply(lambda x: 'buy' if x > 0 else 'not_buy')\n",
    "    \n",
    "    \n",
    "    # разделим всех пользователей на группы:\n",
    "    group_a = users.query(\"grp == 'A'\")                # все пользователи группы А\n",
    "    group_b = users.query(\"grp == 'B'\")                # все пользователи группы B\n",
    "    activ_group_a = activ_users.query(\"grp == 'A'\")    # активные пользователи группы А\n",
    "    activ_group_b = activ_users.query(\"grp == 'B'\")    # активные пользователи группы B\n",
    "\n",
    "    # рассчет метрики медианной стоимости покупки в группах А и В\n",
    "    #median_a = group_a.query(\"rev > 0\").rev.median()\n",
    "    #median_b = group_b.query(\"rev > 0\").rev.median()\n",
    "    #print(f'Медианная стоимость покупки в группе А: {median_a}\\nМедианная стоимость покупки в группе В: {median_b}')\n",
    "\n",
    "    # рассчет конверсии из всех пользователей в купивших в группах А и В\n",
    "    CR_a = round(group_a.query(\"rev > 0\").id.count() / group_a.id.count() * 100, 2)\n",
    "    CR_b = round(group_b.query(\"rev > 0\").id.count() / group_b.id.count() * 100, 2)\n",
    "    print(f'Конверсия в покупку среди всех пользователей группы А: {CR_a}%\\nКонверсия в покупку среди всех пользователей группы В: {CR_b}%')\n",
    "    \n",
    "    # рассчет конверсии из активных пользователей в купивших в группах А и В\n",
    "    CR_active_a = round(activ_group_a.query(\"rev > 0\").id.count() / activ_group_a.id.count() * 100, 2)\n",
    "    CR_active_b = round(activ_group_b.query(\"rev > 0\").id.count() / activ_group_b.id.count() * 100, 2)\n",
    "    print(f'Конверсия в покупку среди активных пользователей группы А: {CR_active_a}%\\nКонверсия в покупку среди активных пользователей группы В: {CR_active_b}%')\n",
    "\n",
    "    # рассчет метрик ARPU, ARPAU, ARPPU\n",
    "    ARPU_a = round(group_a.rev.sum() / group_a.id.count(), 2)\n",
    "    ARPU_b = round(group_b.rev.sum() / group_b.id.count(), 2)\n",
    "    ARPAU_a = round(group_a.rev.sum() / activ_group_a.id.count(), 2)\n",
    "    ARPAU_b = round(group_b.rev.sum() / activ_group_b.id.count(), 2)\n",
    "    ARPPU_a = round(group_a.rev.sum() / group_a.query(\"rev>0\").id.count(), 2) \n",
    "    ARPPU_b = round(group_b.rev.sum() / group_b.query(\"rev>0\").id.count(), 2)\n",
    "    \n",
    "    # создаем таблицу с результирующими данными\n",
    "    res = pd.DataFrame({\n",
    "            'group':       ['A', 'B'],\n",
    "            'CR':          [CR_a, CR_b],\n",
    "            'CR_active':   [CR_active_a, CR_active_b],\n",
    "            #'median_cost': [median_a, median_b],\n",
    "            'ARPU':        [ARPU_a, ARPU_b],\n",
    "            'ARPAU':       [ARPAU_a, ARPAU_b],\n",
    "            'ARPPU':       [ARPPU_a, ARPPU_b]})\n",
    "    res.set_index('group', inplace=True)\n",
    "    \n",
    "    # делаем оформление итоговой таблицы\n",
    "    res_style = (res.style.set_caption('Изменение метрик в контрольной и тестовой группах')\n",
    "                          .highlight_max(axis='index')    # отметим цветом значения в группе, которые больше\n",
    "                          .format({'CR': '{:.2f}', \n",
    "                                 'CR_active': '{:.2f}', \n",
    "                                 'ARPU': '{:.2f}', \n",
    "                                 'ARPAU': '{:.2f}',\n",
    "                                 #'median_cost':\"{:0<4.0f}\",\n",
    "                                 'ARPPU':\"{:0<4.0f}\"})\n",
    "                )\n",
    "    \n",
    "    return res_style"
   ]
  },
  {
   "cell_type": "code",
   "execution_count": 58,
   "metadata": {},
   "outputs": [
    {
     "name": "stdout",
     "output_type": "stream",
     "text": [
      "Конверсия в покупку среди всех пользователей группы А: 0.73%\n",
      "Конверсия в покупку среди всех пользователей группы В: 0.72%\n",
      "Конверсия в покупку среди активных пользователей группы А: 5.08%\n",
      "Конверсия в покупку среди активных пользователей группы В: 4.61%\n"
     ]
    },
    {
     "data": {
      "text/html": [
       "<style  type=\"text/css\" >\n",
       "#T_e4906746_2bfc_11ef_bdbb_96000040dfb6row0_col0,#T_e4906746_2bfc_11ef_bdbb_96000040dfb6row0_col1,#T_e4906746_2bfc_11ef_bdbb_96000040dfb6row1_col2,#T_e4906746_2bfc_11ef_bdbb_96000040dfb6row1_col3,#T_e4906746_2bfc_11ef_bdbb_96000040dfb6row1_col4{\n",
       "            background-color:  yellow;\n",
       "        }</style><table id=\"T_e4906746_2bfc_11ef_bdbb_96000040dfb6\" ><caption>Изменение метрик в контрольной и тестовой группах</caption><thead>    <tr>        <th class=\"blank level0\" ></th>        <th class=\"col_heading level0 col0\" >CR</th>        <th class=\"col_heading level0 col1\" >CR_active</th>        <th class=\"col_heading level0 col2\" >ARPU</th>        <th class=\"col_heading level0 col3\" >ARPAU</th>        <th class=\"col_heading level0 col4\" >ARPPU</th>    </tr>    <tr>        <th class=\"index_name level0\" >group</th>        <th class=\"blank\" ></th>        <th class=\"blank\" ></th>        <th class=\"blank\" ></th>        <th class=\"blank\" ></th>        <th class=\"blank\" ></th>    </tr></thead><tbody>\n",
       "                <tr>\n",
       "                        <th id=\"T_e4906746_2bfc_11ef_bdbb_96000040dfb6level0_row0\" class=\"row_heading level0 row0\" >A</th>\n",
       "                        <td id=\"T_e4906746_2bfc_11ef_bdbb_96000040dfb6row0_col0\" class=\"data row0 col0\" >0.73</td>\n",
       "                        <td id=\"T_e4906746_2bfc_11ef_bdbb_96000040dfb6row0_col1\" class=\"data row0 col1\" >5.08</td>\n",
       "                        <td id=\"T_e4906746_2bfc_11ef_bdbb_96000040dfb6row0_col2\" class=\"data row0 col2\" >6.28</td>\n",
       "                        <td id=\"T_e4906746_2bfc_11ef_bdbb_96000040dfb6row0_col3\" class=\"data row0 col3\" >60.00</td>\n",
       "                        <td id=\"T_e4906746_2bfc_11ef_bdbb_96000040dfb6row0_col4\" class=\"data row0 col4\" >8610</td>\n",
       "            </tr>\n",
       "            <tr>\n",
       "                        <th id=\"T_e4906746_2bfc_11ef_bdbb_96000040dfb6level0_row1\" class=\"row_heading level0 row1\" >B</th>\n",
       "                        <td id=\"T_e4906746_2bfc_11ef_bdbb_96000040dfb6row1_col0\" class=\"data row1 col0\" >0.72</td>\n",
       "                        <td id=\"T_e4906746_2bfc_11ef_bdbb_96000040dfb6row1_col1\" class=\"data row1 col1\" >4.61</td>\n",
       "                        <td id=\"T_e4906746_2bfc_11ef_bdbb_96000040dfb6row1_col2\" class=\"data row1 col2\" >8.01</td>\n",
       "                        <td id=\"T_e4906746_2bfc_11ef_bdbb_96000040dfb6row1_col3\" class=\"data row1 col3\" >70.56</td>\n",
       "                        <td id=\"T_e4906746_2bfc_11ef_bdbb_96000040dfb6row1_col4\" class=\"data row1 col4\" >1107</td>\n",
       "            </tr>\n",
       "    </tbody></table>"
      ],
      "text/plain": [
       "<pandas.io.formats.style.Styler at 0x7f2f9ffcd780>"
      ]
     },
     "execution_count": 58,
     "metadata": {},
     "output_type": "execute_result"
    }
   ],
   "source": [
    "# задаем параметры функции\n",
    "result_table = count_metrics(df = groups, link ='https://disk.yandex.ru/d/5Kxrz02m3IBUwQ')\n",
    "\n",
    "# выведем результат функции\n",
    "result_table"
   ]
  },
  {
   "cell_type": "markdown",
   "metadata": {},
   "source": [
    "\n",
    "___\n",
    "2. Реализуйте функцию, которая будет строить графики по получаемым метрикам.  "
   ]
  },
  {
   "cell_type": "code",
   "execution_count": 59,
   "metadata": {},
   "outputs": [],
   "source": [
    "# напишем функцию, отображающую визуализацию по рассчитанным метрикам\n",
    "\n",
    "def get_visual(df):\n",
    "    \n",
    "    # формируем блок из 6 графиков\n",
    "    fig, axes = plt.subplots(ncols=5, figsize=(18, 5))\n",
    "    \n",
    "    # заголовок\n",
    "    fig.suptitle('Изменение метрик по группам', fontsize=20)\n",
    "    \n",
    "    # выводим графики по всем метрикам\n",
    "    lst_metric = ['CR', 'CR_active', 'ARPU', 'ARPAU', 'ARPPU']\n",
    "    \n",
    "    for i, metric in enumerate(lst_metric):\n",
    "        df[metric].plot(kind='bar', ax=axes[i], rot=0,  alpha=0.8, color=['green', 'grey'])\n",
    "        axes[i].set_xlabel(f'{metric}')\n",
    "    plt.tight_layout()\n",
    "    plt.show()\n",
    "    return df"
   ]
  },
  {
   "cell_type": "code",
   "execution_count": 60,
   "metadata": {},
   "outputs": [
    {
     "data": {
      "image/png": "[encoded data removed]",
      "text/plain": [
       "<Figure size 1296x360 with 5 Axes>"
      ]
     },
     "metadata": {},
     "output_type": "display_data"
    },
    {
     "data": {
      "text/html": [
       "<div>\n",
       "<style scoped>\n",
       "    .dataframe tbody tr th:only-of-type {\n",
       "        vertical-align: middle;\n",
       "    }\n",
       "\n",
       "    .dataframe tbody tr th {\n",
       "        vertical-align: top;\n",
       "    }\n",
       "\n",
       "    .dataframe thead th {\n",
       "        text-align: right;\n",
       "    }\n",
       "</style>\n",
       "<table border=\"1\" class=\"dataframe\">\n",
       "  <thead>\n",
       "    <tr style=\"text-align: right;\">\n",
       "      <th></th>\n",
       "      <th>CR</th>\n",
       "      <th>CR_active</th>\n",
       "      <th>avg_cost</th>\n",
       "      <th>ARPU</th>\n",
       "      <th>ARPAU</th>\n",
       "      <th>ARPPU</th>\n",
       "    </tr>\n",
       "    <tr>\n",
       "      <th>group</th>\n",
       "      <th></th>\n",
       "      <th></th>\n",
       "      <th></th>\n",
       "      <th></th>\n",
       "      <th></th>\n",
       "      <th></th>\n",
       "    </tr>\n",
       "  </thead>\n",
       "  <tbody>\n",
       "    <tr>\n",
       "      <th>A</th>\n",
       "      <td>0.73</td>\n",
       "      <td>5.07</td>\n",
       "      <td>860.710280</td>\n",
       "      <td>6.27</td>\n",
       "      <td>59.88</td>\n",
       "      <td>860.71</td>\n",
       "    </tr>\n",
       "    <tr>\n",
       "      <th>B</th>\n",
       "      <td>0.72</td>\n",
       "      <td>4.62</td>\n",
       "      <td>1108.824893</td>\n",
       "      <td>8.04</td>\n",
       "      <td>70.74</td>\n",
       "      <td>1108.82</td>\n",
       "    </tr>\n",
       "  </tbody>\n",
       "</table>\n",
       "</div>"
      ],
      "text/plain": [
       "         CR  CR_active     avg_cost  ARPU  ARPAU    ARPPU\n",
       "group                                                    \n",
       "A      0.73       5.07   860.710280  6.27  59.88   860.71\n",
       "B      0.72       4.62  1108.824893  8.04  70.74  1108.82"
      ]
     },
     "execution_count": 60,
     "metadata": {},
     "output_type": "execute_result"
    }
   ],
   "source": [
    "# задаем параметры функции\n",
    "get_visual(res)"
   ]
  },
  {
   "cell_type": "markdown",
   "metadata": {},
   "source": [
    "С помощью функций **_count_metrics(df, link)_** и **_get_visual(df)_** по заданным параметрам (датафрейм и ссылка на данные) были получены итоговое отображение всех рассчитанных метрик. Все метрики представлены для удобства в виде таблицы. А также получено визуальное отображение изменения данных метрик по группам А и В."
   ]
  },
  {
   "cell_type": "code",
   "execution_count": null,
   "metadata": {},
   "outputs": [],
   "source": []
  },
  {
   "cell_type": "code",
   "execution_count": null,
   "metadata": {},
   "outputs": [],
   "source": []
  },
  {
   "cell_type": "code",
   "execution_count": null,
   "metadata": {},
   "outputs": [],
   "source": []
  },
  {
   "cell_type": "code",
   "execution_count": null,
   "metadata": {},
   "outputs": [],
   "source": []
  },
  {
   "cell_type": "code",
   "execution_count": null,
   "metadata": {},
   "outputs": [],
   "source": []
  },
  {
   "cell_type": "code",
   "execution_count": null,
   "metadata": {},
   "outputs": [],
   "source": []
  }
 ],
 "metadata": {
  "kernelspec": {
   "display_name": "Python 3",
   "language": "python",
   "name": "python3"
  },
  "language_info": {
   "codemirror_mode": {
    "name": "ipython",
    "version": 3
   },
   "file_extension": ".py",
   "mimetype": "text/x-python",
   "name": "python",
   "nbconvert_exporter": "python",
   "pygments_lexer": "ipython3",
   "version": "3.7.3"
  }
 },
 "nbformat": 4,
 "nbformat_minor": 4
}
